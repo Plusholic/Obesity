{
 "cells": [
  {
   "cell_type": "code",
   "execution_count": 1,
   "metadata": {},
   "outputs": [],
   "source": [
    "import pandas as pd\n",
    "import numpy as np\n",
    "import matplotlib.pyplot as plt\n",
    "from sklearn import ensemble\n",
    "from sklearn.ensemble import RandomForestClassifier\n",
    "from sklearn.metrics import top_k_accuracy_score\n",
    "from sklearn.model_selection import train_test_split,GridSearchCV\n",
    "from sklearn import preprocessing\n",
    "from sklearn.linear_model import LogisticRegression\n",
    "from sklearn import metrics\n",
    "import random\n",
    "from scipy import stats\n",
    "#import statsmodels.api as sm\n",
    "from imblearn.over_sampling import SMOTE\n",
    "\n",
    "from itertools import cycle\n",
    "from sklearn.preprocessing import label_binarize\n",
    "from imblearn.over_sampling import SMOTE\n",
    "from collections import Counter\n",
    "from sklearn.metrics import accuracy_score, recall_score, precision_score, f1_score, auc, roc_curve, roc_auc_score\n",
    "from sklearn.feature_selection import SelectKBest, f_classif\n"
   ]
  },
  {
   "cell_type": "code",
   "execution_count": 2,
   "metadata": {},
   "outputs": [],
   "source": [
    "list999 = []\n",
    "list88 = []\n",
    "elselist = []\n",
    "column_feature = []\n",
    "accuracy = [] \n",
    "count0 = [] \n",
    "count1 = []\n",
    "print_list = []\n",
    "ct = 0\n",
    "def perf_measure(y_actual, y_hat):\n",
    "    TP = 0\n",
    "    FP = 0\n",
    "    TN = 0\n",
    "    FN = 0\n",
    "\n",
    "    for i in range(len(y_hat)): \n",
    "        if y_actual[i]==y_hat[i]==1:\n",
    "           TP += 1\n",
    "        if y_hat[i]==1 and y_actual[i]!=y_hat[i]:\n",
    "           FP += 1\n",
    "        if y_actual[i]==y_hat[i]==0:\n",
    "           TN += 1\n",
    "        if y_hat[i]==0 and y_actual[i]!=y_hat[i]:\n",
    "           FN += 1\n",
    "\n",
    "    return(TP, FP, TN, FN)\n",
    "\n",
    "\n",
    "# # 혈액검사 변수\n",
    "# column_name_gb = ['HE_BMI']\n",
    "# column_name_choice1 = ['HE_WBC', 'HE_RBC', 'HE_Bplt', 'HE_Uacid', 'HE_glu', 'HE_sbp', 'HE_dbp', 'HE_HbA1c', 'BE3_76', 'BE3_86', 'HE_TG', 'HE_ast', 'HE_alt', 'HE_HB']\n",
    "# column_name_6079 = ['HE_glu', 'HE_HbA1c', 'HE_alt', 'HE_TG', 'HE_RBC', 'HE_Uacid', 'HE_HB', 'HE_WBC', 'BE3_86', 'HE_ast']\n",
    "# column_name_1939 = ['HE_alt', 'HE_Uacid', 'HE_sbp', 'HE_glu', 'HE_TG', 'HE_HbA1c', 'HE_dbp', 'BE3_76', 'HE_WBC', 'HE_Bplt']\n",
    "# column_name_4059 = ['HE_TG', 'HE_alt', 'HE_glu', 'HE_Uacid', 'HE_HbA1c', 'HE_dbp', 'HE_sbp', 'HE_RBC', 'HE_WBC', 'HE_HB']\n",
    "# ######## \n",
    "# column_name_group = ['HE_BMI'] + column_name_choice1\n",
    "\n",
    "# # for c_name in column_name_gb + column_name_choice1 + column_name_6079 + column_name_1939 + column_name_4059:\n",
    "# #        if c_name not in column_name_group:\n",
    "# #          column_name_group.append(c_name)\n",
    "\n",
    "# # 아래에서 BMI를 기준으로 정렬하고, BMI를 제거하기 때문에 각 그룹별로 보기 위해서는 + ['HE_BMI'] 부분이 들어가야함.\n",
    "# column_feature = [column_name_gb + column_name_choice1,\n",
    "#                   column_name_gb + column_name_6079,\n",
    "#                   column_name_gb + column_name_1939,\n",
    "#                   column_name_gb + column_name_4059]\n",
    "\n",
    "# print_name = ['choice1', 5979, 1939, 3959]\n",
    "# cl = len(column_feature)"
   ]
  },
  {
   "cell_type": "markdown",
   "metadata": {},
   "source": [
    "Binary"
   ]
  },
  {
   "cell_type": "code",
   "execution_count": 4,
   "metadata": {},
   "outputs": [
    {
     "name": "stdout",
     "output_type": "stream",
     "text": [
      "702\n",
      "1365\n",
      "1365\n",
      "1365\n"
     ]
    },
    {
     "name": "stderr",
     "output_type": "stream",
     "text": [
      "c:\\Users\\bm990\\Desktop\\백업\\Python_Code\\Obesity\\.venv\\lib\\site-packages\\sklearn\\utils\\validation.py:63: DataConversionWarning: A column-vector y was passed when a 1d array was expected. Please change the shape of y to (n_samples, ), for example using ravel().\n",
      "  return f(*args, **kwargs)\n"
     ]
    },
    {
     "name": "stdout",
     "output_type": "stream",
     "text": [
      "782\n",
      "2106\n",
      "2106\n",
      "2106\n"
     ]
    },
    {
     "name": "stderr",
     "output_type": "stream",
     "text": [
      "c:\\Users\\bm990\\Desktop\\백업\\Python_Code\\Obesity\\.venv\\lib\\site-packages\\sklearn\\utils\\validation.py:63: DataConversionWarning: A column-vector y was passed when a 1d array was expected. Please change the shape of y to (n_samples, ), for example using ravel().\n",
      "  return f(*args, **kwargs)\n"
     ]
    },
    {
     "name": "stdout",
     "output_type": "stream",
     "text": [
      "845\n",
      "1587\n",
      "1587\n",
      "1587\n"
     ]
    },
    {
     "name": "stderr",
     "output_type": "stream",
     "text": [
      "c:\\Users\\bm990\\Desktop\\백업\\Python_Code\\Obesity\\.venv\\lib\\site-packages\\sklearn\\utils\\validation.py:63: DataConversionWarning: A column-vector y was passed when a 1d array was expected. Please change the shape of y to (n_samples, ), for example using ravel().\n",
      "  return f(*args, **kwargs)\n"
     ]
    },
    {
     "name": "stdout",
     "output_type": "stream",
     "text": [
      "1317\n",
      "697\n",
      "1317\n",
      "1317\n"
     ]
    },
    {
     "name": "stderr",
     "output_type": "stream",
     "text": [
      "c:\\Users\\bm990\\Desktop\\백업\\Python_Code\\Obesity\\.venv\\lib\\site-packages\\sklearn\\utils\\validation.py:63: DataConversionWarning: A column-vector y was passed when a 1d array was expected. Please change the shape of y to (n_samples, ), for example using ravel().\n",
      "  return f(*args, **kwargs)\n"
     ]
    },
    {
     "name": "stdout",
     "output_type": "stream",
     "text": [
      "1712\n",
      "1783\n",
      "1783\n",
      "1783\n"
     ]
    },
    {
     "name": "stderr",
     "output_type": "stream",
     "text": [
      "c:\\Users\\bm990\\Desktop\\백업\\Python_Code\\Obesity\\.venv\\lib\\site-packages\\sklearn\\utils\\validation.py:63: DataConversionWarning: A column-vector y was passed when a 1d array was expected. Please change the shape of y to (n_samples, ), for example using ravel().\n",
      "  return f(*args, **kwargs)\n"
     ]
    },
    {
     "name": "stdout",
     "output_type": "stream",
     "text": [
      "1039\n",
      "2013\n",
      "2013\n",
      "2013\n"
     ]
    },
    {
     "name": "stderr",
     "output_type": "stream",
     "text": [
      "c:\\Users\\bm990\\Desktop\\백업\\Python_Code\\Obesity\\.venv\\lib\\site-packages\\sklearn\\utils\\validation.py:63: DataConversionWarning: A column-vector y was passed when a 1d array was expected. Please change the shape of y to (n_samples, ), for example using ravel().\n",
      "  return f(*args, **kwargs)\n"
     ]
    },
    {
     "name": "stdout",
     "output_type": "stream",
     "text": [
      "708\n",
      "1326\n",
      "1326\n",
      "1326\n"
     ]
    },
    {
     "name": "stderr",
     "output_type": "stream",
     "text": [
      "c:\\Users\\bm990\\Desktop\\백업\\Python_Code\\Obesity\\.venv\\lib\\site-packages\\sklearn\\utils\\validation.py:63: DataConversionWarning: A column-vector y was passed when a 1d array was expected. Please change the shape of y to (n_samples, ), for example using ravel().\n",
      "  return f(*args, **kwargs)\n"
     ]
    },
    {
     "name": "stdout",
     "output_type": "stream",
     "text": [
      "782\n",
      "2106\n",
      "2106\n",
      "2106\n"
     ]
    },
    {
     "name": "stderr",
     "output_type": "stream",
     "text": [
      "c:\\Users\\bm990\\Desktop\\백업\\Python_Code\\Obesity\\.venv\\lib\\site-packages\\sklearn\\utils\\validation.py:63: DataConversionWarning: A column-vector y was passed when a 1d array was expected. Please change the shape of y to (n_samples, ), for example using ravel().\n",
      "  return f(*args, **kwargs)\n"
     ]
    },
    {
     "name": "stdout",
     "output_type": "stream",
     "text": [
      "845\n",
      "1587\n",
      "1587\n",
      "1587\n"
     ]
    },
    {
     "name": "stderr",
     "output_type": "stream",
     "text": [
      "c:\\Users\\bm990\\Desktop\\백업\\Python_Code\\Obesity\\.venv\\lib\\site-packages\\sklearn\\utils\\validation.py:63: DataConversionWarning: A column-vector y was passed when a 1d array was expected. Please change the shape of y to (n_samples, ), for example using ravel().\n",
      "  return f(*args, **kwargs)\n"
     ]
    },
    {
     "name": "stdout",
     "output_type": "stream",
     "text": [
      "1309\n",
      "701\n",
      "1309\n",
      "1309\n"
     ]
    },
    {
     "name": "stderr",
     "output_type": "stream",
     "text": [
      "c:\\Users\\bm990\\Desktop\\백업\\Python_Code\\Obesity\\.venv\\lib\\site-packages\\sklearn\\utils\\validation.py:63: DataConversionWarning: A column-vector y was passed when a 1d array was expected. Please change the shape of y to (n_samples, ), for example using ravel().\n",
      "  return f(*args, **kwargs)\n"
     ]
    },
    {
     "name": "stdout",
     "output_type": "stream",
     "text": [
      "1713\n",
      "1779\n",
      "1779\n",
      "1779\n"
     ]
    },
    {
     "name": "stderr",
     "output_type": "stream",
     "text": [
      "c:\\Users\\bm990\\Desktop\\백업\\Python_Code\\Obesity\\.venv\\lib\\site-packages\\sklearn\\utils\\validation.py:63: DataConversionWarning: A column-vector y was passed when a 1d array was expected. Please change the shape of y to (n_samples, ), for example using ravel().\n",
      "  return f(*args, **kwargs)\n"
     ]
    },
    {
     "name": "stdout",
     "output_type": "stream",
     "text": [
      "1037\n",
      "2011\n",
      "2011\n",
      "2011\n"
     ]
    },
    {
     "name": "stderr",
     "output_type": "stream",
     "text": [
      "c:\\Users\\bm990\\Desktop\\백업\\Python_Code\\Obesity\\.venv\\lib\\site-packages\\sklearn\\utils\\validation.py:63: DataConversionWarning: A column-vector y was passed when a 1d array was expected. Please change the shape of y to (n_samples, ), for example using ravel().\n",
      "  return f(*args, **kwargs)\n"
     ]
    },
    {
     "name": "stdout",
     "output_type": "stream",
     "text": [
      "708\n",
      "1326\n",
      "1326\n",
      "1326\n"
     ]
    },
    {
     "name": "stderr",
     "output_type": "stream",
     "text": [
      "c:\\Users\\bm990\\Desktop\\백업\\Python_Code\\Obesity\\.venv\\lib\\site-packages\\sklearn\\utils\\validation.py:63: DataConversionWarning: A column-vector y was passed when a 1d array was expected. Please change the shape of y to (n_samples, ), for example using ravel().\n",
      "  return f(*args, **kwargs)\n"
     ]
    },
    {
     "name": "stdout",
     "output_type": "stream",
     "text": [
      "780\n",
      "2079\n",
      "2079\n",
      "2079\n"
     ]
    },
    {
     "name": "stderr",
     "output_type": "stream",
     "text": [
      "c:\\Users\\bm990\\Desktop\\백업\\Python_Code\\Obesity\\.venv\\lib\\site-packages\\sklearn\\utils\\validation.py:63: DataConversionWarning: A column-vector y was passed when a 1d array was expected. Please change the shape of y to (n_samples, ), for example using ravel().\n",
      "  return f(*args, **kwargs)\n"
     ]
    },
    {
     "name": "stdout",
     "output_type": "stream",
     "text": [
      "838\n",
      "1580\n",
      "1580\n",
      "1580\n"
     ]
    },
    {
     "name": "stderr",
     "output_type": "stream",
     "text": [
      "c:\\Users\\bm990\\Desktop\\백업\\Python_Code\\Obesity\\.venv\\lib\\site-packages\\sklearn\\utils\\validation.py:63: DataConversionWarning: A column-vector y was passed when a 1d array was expected. Please change the shape of y to (n_samples, ), for example using ravel().\n",
      "  return f(*args, **kwargs)\n"
     ]
    },
    {
     "name": "stdout",
     "output_type": "stream",
     "text": [
      "1309\n",
      "701\n",
      "1309\n",
      "1309\n"
     ]
    },
    {
     "name": "stderr",
     "output_type": "stream",
     "text": [
      "c:\\Users\\bm990\\Desktop\\백업\\Python_Code\\Obesity\\.venv\\lib\\site-packages\\sklearn\\utils\\validation.py:63: DataConversionWarning: A column-vector y was passed when a 1d array was expected. Please change the shape of y to (n_samples, ), for example using ravel().\n",
      "  return f(*args, **kwargs)\n"
     ]
    },
    {
     "name": "stdout",
     "output_type": "stream",
     "text": [
      "1717\n",
      "1766\n",
      "1766\n",
      "1766\n"
     ]
    },
    {
     "name": "stderr",
     "output_type": "stream",
     "text": [
      "c:\\Users\\bm990\\Desktop\\백업\\Python_Code\\Obesity\\.venv\\lib\\site-packages\\sklearn\\utils\\validation.py:63: DataConversionWarning: A column-vector y was passed when a 1d array was expected. Please change the shape of y to (n_samples, ), for example using ravel().\n",
      "  return f(*args, **kwargs)\n"
     ]
    },
    {
     "name": "stdout",
     "output_type": "stream",
     "text": [
      "1037\n",
      "2010\n",
      "2010\n",
      "2010\n"
     ]
    },
    {
     "name": "stderr",
     "output_type": "stream",
     "text": [
      "c:\\Users\\bm990\\Desktop\\백업\\Python_Code\\Obesity\\.venv\\lib\\site-packages\\sklearn\\utils\\validation.py:63: DataConversionWarning: A column-vector y was passed when a 1d array was expected. Please change the shape of y to (n_samples, ), for example using ravel().\n",
      "  return f(*args, **kwargs)\n"
     ]
    },
    {
     "name": "stdout",
     "output_type": "stream",
     "text": [
      "704\n",
      "1325\n",
      "1325\n",
      "1325\n"
     ]
    },
    {
     "name": "stderr",
     "output_type": "stream",
     "text": [
      "c:\\Users\\bm990\\Desktop\\백업\\Python_Code\\Obesity\\.venv\\lib\\site-packages\\sklearn\\utils\\validation.py:63: DataConversionWarning: A column-vector y was passed when a 1d array was expected. Please change the shape of y to (n_samples, ), for example using ravel().\n",
      "  return f(*args, **kwargs)\n"
     ]
    },
    {
     "name": "stdout",
     "output_type": "stream",
     "text": [
      "780\n",
      "2079\n",
      "2079\n",
      "2079\n"
     ]
    },
    {
     "name": "stderr",
     "output_type": "stream",
     "text": [
      "c:\\Users\\bm990\\Desktop\\백업\\Python_Code\\Obesity\\.venv\\lib\\site-packages\\sklearn\\utils\\validation.py:63: DataConversionWarning: A column-vector y was passed when a 1d array was expected. Please change the shape of y to (n_samples, ), for example using ravel().\n",
      "  return f(*args, **kwargs)\n"
     ]
    },
    {
     "name": "stdout",
     "output_type": "stream",
     "text": [
      "831\n",
      "1566\n",
      "1566\n",
      "1566\n"
     ]
    },
    {
     "name": "stderr",
     "output_type": "stream",
     "text": [
      "c:\\Users\\bm990\\Desktop\\백업\\Python_Code\\Obesity\\.venv\\lib\\site-packages\\sklearn\\utils\\validation.py:63: DataConversionWarning: A column-vector y was passed when a 1d array was expected. Please change the shape of y to (n_samples, ), for example using ravel().\n",
      "  return f(*args, **kwargs)\n",
      "c:\\Users\\bm990\\Desktop\\백업\\Python_Code\\Obesity\\.venv\\lib\\site-packages\\ipykernel_launcher.py:208: RuntimeWarning: More than 20 figures have been opened. Figures created through the pyplot interface (`matplotlib.pyplot.figure`) are retained until explicitly closed and may consume too much memory. (To control this warning, see the rcParam `figure.max_open_warning`).\n",
      "c:\\Users\\bm990\\Desktop\\백업\\Python_Code\\Obesity\\.venv\\lib\\site-packages\\ipykernel_launcher.py:225: RuntimeWarning: More than 20 figures have been opened. Figures created through the pyplot interface (`matplotlib.pyplot.figure`) are retained until explicitly closed and may consume too much memory. (To control this warning, see the rcParam `figure.max_open_warning`).\n"
     ]
    },
    {
     "name": "stdout",
     "output_type": "stream",
     "text": [
      "1305\n",
      "702\n",
      "1305\n",
      "1305\n"
     ]
    },
    {
     "name": "stderr",
     "output_type": "stream",
     "text": [
      "c:\\Users\\bm990\\Desktop\\백업\\Python_Code\\Obesity\\.venv\\lib\\site-packages\\sklearn\\utils\\validation.py:63: DataConversionWarning: A column-vector y was passed when a 1d array was expected. Please change the shape of y to (n_samples, ), for example using ravel().\n",
      "  return f(*args, **kwargs)\n"
     ]
    },
    {
     "name": "stdout",
     "output_type": "stream",
     "text": [
      "1717\n",
      "1766\n",
      "1766\n",
      "1766\n"
     ]
    },
    {
     "name": "stderr",
     "output_type": "stream",
     "text": [
      "c:\\Users\\bm990\\Desktop\\백업\\Python_Code\\Obesity\\.venv\\lib\\site-packages\\sklearn\\utils\\validation.py:63: DataConversionWarning: A column-vector y was passed when a 1d array was expected. Please change the shape of y to (n_samples, ), for example using ravel().\n",
      "  return f(*args, **kwargs)\n"
     ]
    },
    {
     "name": "stdout",
     "output_type": "stream",
     "text": [
      "1037\n",
      "2010\n",
      "2010\n",
      "2010\n"
     ]
    },
    {
     "name": "stderr",
     "output_type": "stream",
     "text": [
      "c:\\Users\\bm990\\Desktop\\백업\\Python_Code\\Obesity\\.venv\\lib\\site-packages\\sklearn\\utils\\validation.py:63: DataConversionWarning: A column-vector y was passed when a 1d array was expected. Please change the shape of y to (n_samples, ), for example using ravel().\n",
      "  return f(*args, **kwargs)\n"
     ]
    },
    {
     "name": "stdout",
     "output_type": "stream",
     "text": [
      "706\n",
      "1322\n",
      "1322\n",
      "1322\n"
     ]
    },
    {
     "name": "stderr",
     "output_type": "stream",
     "text": [
      "c:\\Users\\bm990\\Desktop\\백업\\Python_Code\\Obesity\\.venv\\lib\\site-packages\\sklearn\\utils\\validation.py:63: DataConversionWarning: A column-vector y was passed when a 1d array was expected. Please change the shape of y to (n_samples, ), for example using ravel().\n",
      "  return f(*args, **kwargs)\n"
     ]
    },
    {
     "name": "stdout",
     "output_type": "stream",
     "text": [
      "778\n",
      "2073\n",
      "2073\n",
      "2073\n"
     ]
    },
    {
     "name": "stderr",
     "output_type": "stream",
     "text": [
      "c:\\Users\\bm990\\Desktop\\백업\\Python_Code\\Obesity\\.venv\\lib\\site-packages\\sklearn\\utils\\validation.py:63: DataConversionWarning: A column-vector y was passed when a 1d array was expected. Please change the shape of y to (n_samples, ), for example using ravel().\n",
      "  return f(*args, **kwargs)\n"
     ]
    },
    {
     "name": "stdout",
     "output_type": "stream",
     "text": [
      "831\n",
      "1566\n",
      "1566\n",
      "1566\n"
     ]
    },
    {
     "name": "stderr",
     "output_type": "stream",
     "text": [
      "c:\\Users\\bm990\\Desktop\\백업\\Python_Code\\Obesity\\.venv\\lib\\site-packages\\sklearn\\utils\\validation.py:63: DataConversionWarning: A column-vector y was passed when a 1d array was expected. Please change the shape of y to (n_samples, ), for example using ravel().\n",
      "  return f(*args, **kwargs)\n"
     ]
    },
    {
     "name": "stdout",
     "output_type": "stream",
     "text": [
      "1308\n",
      "698\n",
      "1308\n",
      "1308\n"
     ]
    },
    {
     "name": "stderr",
     "output_type": "stream",
     "text": [
      "c:\\Users\\bm990\\Desktop\\백업\\Python_Code\\Obesity\\.venv\\lib\\site-packages\\sklearn\\utils\\validation.py:63: DataConversionWarning: A column-vector y was passed when a 1d array was expected. Please change the shape of y to (n_samples, ), for example using ravel().\n",
      "  return f(*args, **kwargs)\n"
     ]
    },
    {
     "name": "stdout",
     "output_type": "stream",
     "text": [
      "1717\n",
      "1766\n",
      "1766\n",
      "1766\n"
     ]
    },
    {
     "name": "stderr",
     "output_type": "stream",
     "text": [
      "c:\\Users\\bm990\\Desktop\\백업\\Python_Code\\Obesity\\.venv\\lib\\site-packages\\sklearn\\utils\\validation.py:63: DataConversionWarning: A column-vector y was passed when a 1d array was expected. Please change the shape of y to (n_samples, ), for example using ravel().\n",
      "  return f(*args, **kwargs)\n"
     ]
    },
    {
     "name": "stdout",
     "output_type": "stream",
     "text": [
      "1037\n",
      "2010\n",
      "2010\n",
      "2010\n"
     ]
    },
    {
     "name": "stderr",
     "output_type": "stream",
     "text": [
      "c:\\Users\\bm990\\Desktop\\백업\\Python_Code\\Obesity\\.venv\\lib\\site-packages\\sklearn\\utils\\validation.py:63: DataConversionWarning: A column-vector y was passed when a 1d array was expected. Please change the shape of y to (n_samples, ), for example using ravel().\n",
      "  return f(*args, **kwargs)\n"
     ]
    },
    {
     "data": {
      "image/png": "[encoded data removed]",
      "text/plain": [
       "<Figure size 288x288 with 1 Axes>"
      ]
     },
     "metadata": {
      "needs_background": "light"
     },
     "output_type": "display_data"
    },
    {
     "data": {
      "image/png": "[encoded data removed]",
      "text/plain": [
       "<Figure size 288x288 with 1 Axes>"
      ]
     },
     "metadata": {
      "needs_background": "light"
     },
     "output_type": "display_data"
    },
    {
     "data": {
      "image/png": "[encoded data removed]",
      "text/plain": [
       "<Figure size 288x288 with 1 Axes>"
      ]
     },
     "metadata": {
      "needs_background": "light"
     },
     "output_type": "display_data"
    },
    {
     "data": {
      "image/png": "[encoded data removed]",
      "text/plain": [
       "<Figure size 288x288 with 1 Axes>"
      ]
     },
     "metadata": {
      "needs_background": "light"
     },
     "output_type": "display_data"
    },
    {
     "data": {
      "image/png": "[encoded data removed]",
      "text/plain": [
       "<Figure size 288x288 with 1 Axes>"
      ]
     },
     "metadata": {
      "needs_background": "light"
     },
     "output_type": "display_data"
    },
    {
     "data": {
      "image/png": "[encoded data removed]",
      "text/plain": [
       "<Figure size 288x288 with 1 Axes>"
      ]
     },
     "metadata": {
      "needs_background": "light"
     },
     "output_type": "display_data"
    },
    {
     "data": {
      "image/png": "[encoded data removed]",
      "text/plain": [
       "<Figure size 288x288 with 1 Axes>"
      ]
     },
     "metadata": {
      "needs_background": "light"
     },
     "output_type": "display_data"
    },
    {
     "data": {
      "image/png": "[encoded data removed]",
      "text/plain": [
       "<Figure size 288x288 with 1 Axes>"
      ]
     },
     "metadata": {
      "needs_background": "light"
     },
     "output_type": "display_data"
    },
    {
     "data": {
      "image/png": "[encoded data removed]",
      "text/plain": [
       "<Figure size 288x288 with 1 Axes>"
      ]
     },
     "metadata": {
      "needs_background": "light"
     },
     "output_type": "display_data"
    },
    {
     "data": {
      "image/png": "[encoded data removed]",
      "text/plain": [
       "<Figure size 288x288 with 1 Axes>"
      ]
     },
     "metadata": {
      "needs_background": "light"
     },
     "output_type": "display_data"
    },
    {
     "data": {
      "image/png": "[encoded data removed]",
      "text/plain": [
       "<Figure size 288x288 with 1 Axes>"
      ]
     },
     "metadata": {
      "needs_background": "light"
     },
     "output_type": "display_data"
    },
    {
     "data": {
      "image/png": "[encoded data removed]",
      "text/plain": [
       "<Figure size 288x288 with 1 Axes>"
      ]
     },
     "metadata": {
      "needs_background": "light"
     },
     "output_type": "display_data"
    },
    {
     "data": {
      "image/png": "[encoded data removed]",
      "text/plain": [
       "<Figure size 288x288 with 1 Axes>"
      ]
     },
     "metadata": {
      "needs_background": "light"
     },
     "output_type": "display_data"
    },
    {
     "data": {
      "image/png": "[encoded data removed]",
      "text/plain": [
       "<Figure size 288x288 with 1 Axes>"
      ]
     },
     "metadata": {
      "needs_background": "light"
     },
     "output_type": "display_data"
    },
    {
     "data": {
      "image/png": "[encoded data removed]",
      "text/plain": [
       "<Figure size 288x288 with 1 Axes>"
      ]
     },
     "metadata": {
      "needs_background": "light"
     },
     "output_type": "display_data"
    },
    {
     "data": {
      "image/png": "[encoded data removed]",
      "text/plain": [
       "<Figure size 288x288 with 1 Axes>"
      ]
     },
     "metadata": {
      "needs_background": "light"
     },
     "output_type": "display_data"
    },
    {
     "data": {
      "image/png": "[encoded data removed]",
      "text/plain": [
       "<Figure size 288x288 with 1 Axes>"
      ]
     },
     "metadata": {
      "needs_background": "light"
     },
     "output_type": "display_data"
    },
    {
     "data": {
      "image/png": "[encoded data removed]",
      "text/plain": [
       "<Figure size 288x288 with 1 Axes>"
      ]
     },
     "metadata": {
      "needs_background": "light"
     },
     "output_type": "display_data"
    },
    {
     "data": {
      "image/png": "[encoded data removed]",
      "text/plain": [
       "<Figure size 288x288 with 1 Axes>"
      ]
     },
     "metadata": {
      "needs_background": "light"
     },
     "output_type": "display_data"
    },
    {
     "data": {
      "image/png": "[encoded data removed]",
      "text/plain": [
       "<Figure size 288x288 with 1 Axes>"
      ]
     },
     "metadata": {
      "needs_background": "light"
     },
     "output_type": "display_data"
    },
    {
     "data": {
      "image/png": "[encoded data removed]",
      "text/plain": [
       "<Figure size 288x288 with 1 Axes>"
      ]
     },
     "metadata": {
      "needs_background": "light"
     },
     "output_type": "display_data"
    },
    {
     "data": {
      "image/png": "[encoded data removed]",
      "text/plain": [
       "<Figure size 288x288 with 1 Axes>"
      ]
     },
     "metadata": {
      "needs_background": "light"
     },
     "output_type": "display_data"
    },
    {
     "data": {
      "image/png": "[encoded data removed]",
      "text/plain": [
       "<Figure size 288x288 with 1 Axes>"
      ]
     },
     "metadata": {
      "needs_background": "light"
     },
     "output_type": "display_data"
    },
    {
     "data": {
      "image/png": "[encoded data removed]",
      "text/plain": [
       "<Figure size 288x288 with 1 Axes>"
      ]
     },
     "metadata": {
      "needs_background": "light"
     },
     "output_type": "display_data"
    },
    {
     "data": {
      "image/png": "[encoded data removed]",
      "text/plain": [
       "<Figure size 288x288 with 1 Axes>"
      ]
     },
     "metadata": {
      "needs_background": "light"
     },
     "output_type": "display_data"
    },
    {
     "data": {
      "image/png": "[encoded data removed]",
      "text/plain": [
       "<Figure size 288x288 with 1 Axes>"
      ]
     },
     "metadata": {
      "needs_background": "light"
     },
     "output_type": "display_data"
    },
    {
     "data": {
      "image/png": "[encoded data removed]",
      "text/plain": [
       "<Figure size 288x288 with 1 Axes>"
      ]
     },
     "metadata": {
      "needs_background": "light"
     },
     "output_type": "display_data"
    },
    {
     "data": {
      "image/png": "[encoded data removed]",
      "text/plain": [
       "<Figure size 288x288 with 1 Axes>"
      ]
     },
     "metadata": {
      "needs_background": "light"
     },
     "output_type": "display_data"
    },
    {
     "data": {
      "image/png": "[encoded data removed]",
      "text/plain": [
       "<Figure size 288x288 with 1 Axes>"
      ]
     },
     "metadata": {
      "needs_background": "light"
     },
     "output_type": "display_data"
    },
    {
     "data": {
      "image/png": "[encoded data removed]",
      "text/plain": [
       "<Figure size 288x288 with 1 Axes>"
      ]
     },
     "metadata": {
      "needs_background": "light"
     },
     "output_type": "display_data"
    }
   ],
   "source": [
    "iter = 0\n",
    "iteration_test = []\n",
    "BMI_grade = []\n",
    "ii = 0\n",
    "sup = \"_SMOTE\"\n",
    "PATH = \"LR_Result\" + sup\n",
    "import os\n",
    "os.makedirs(PATH,exist_ok=True)\n",
    "\n",
    "iter = 0\n",
    "iteration_test = []\n",
    "ii = 0\n",
    "for top_count in [4,5,6,7,8]:\n",
    "    print_list = []\n",
    "    ct = 0\n",
    "    for ii in [1,2]: # sex\n",
    "        data = pd.read_csv(\"DATA/hn2016_all.csv\",encoding='utf-8', low_memory=False)\n",
    "        data2 = pd.read_csv(\"DATA/hn2017_all.csv\",encoding='utf-8', low_memory=False)\n",
    "        data3 = pd.read_csv(\"DATA/hn2018_all.csv\",encoding='utf-8', low_memory=False)\n",
    "        data4 = pd.read_csv(\"DATA/hn2019_all.csv\",encoding='utf-8', low_memory=False)\n",
    "        \n",
    "        gender = data['sex']\n",
    "        gender2 = data2['sex']\n",
    "        gender3 = data3['sex']\n",
    "        gender4 = data4['sex']\n",
    "        \n",
    "        age_list = [[19, 39], [39, 59], [59, 79]]\n",
    "        for age in range(len(age_list)): \n",
    "            \n",
    "            data_copy = data[(data['age']>=age_list[age][0]) & (data['age']<age_list[age][1])].copy()\n",
    "            data2_copy = data2[(data2['age']>=age_list[age][0]) & (data2['age']<age_list[age][1])].copy()\n",
    "            data3_copy = data3[(data3['age']>=age_list[age][0]) & (data3['age']<age_list[age][1])].copy()\n",
    "            data4_copy = data4[(data4['age']>=age_list[age][0]) & (data4['age']<age_list[age][1])].copy()\n",
    "            \n",
    "            sex = [ii]\n",
    "            data_copy = data_copy.loc[gender.isin(sex)]\n",
    "            data2_copy = data2_copy.loc[gender2.isin(sex)]\n",
    "            data3_copy = data3_copy.loc[gender3.isin(sex)]\n",
    "            data4_copy = data4_copy.loc[gender4.isin(sex)]\n",
    "            \n",
    "            Feature_Selection = pd.read_csv('RFC_Feature_Selection/RFC_feature_selection_Binary_OverSampling.csv', index_col = 0)\n",
    "            filtering = Feature_Selection[(Feature_Selection['gender'] == ii) & (Feature_Selection['age'] == str(age_list[age]))]\n",
    "            column_feature = ['HE_BMI'] + list(filtering.index[0:top_count])\n",
    "            \n",
    "            \n",
    "            data_select = data_copy[column_feature].copy()\n",
    "            data_select2 = data2_copy[column_feature].copy()\n",
    "            data_select3 = data3_copy[column_feature].copy()\n",
    "            data_select4 = data4_copy[column_feature].copy()\n",
    "            for i in range(len(column_feature)):\n",
    "                BMI_grade.append([])\n",
    "                ## 숫자로 바꿔주는 코드임.\n",
    "                data_select[column_feature[i]] = pd.to_numeric(data_select[column_feature[i]], errors='coerce').astype(float).round(2)\n",
    "                data_select2[column_feature[i]] = pd.to_numeric(data_select2[column_feature[i]], errors='coerce').astype(float).round(2)\n",
    "                data_select3[column_feature[i]] = pd.to_numeric(data_select3[column_feature[i]], errors='coerce').astype(float).round(2)\n",
    "                data_select4[column_feature[i]] = pd.to_numeric(data_select4[column_feature[i]], errors='coerce').astype(float).round(2)            #print(len(df)) #16000개\n",
    "                \n",
    "\n",
    "            df1 = data_select[column_feature]\n",
    "            df2 = data_select2[column_feature]\n",
    "            df3 = data_select3[column_feature]\n",
    "            df4 = data_select4[column_feature]\n",
    "            \n",
    "            df = pd.concat([df1, df2, df3, df4], ignore_index=True) # 18년 19년 자료 합쳐주는 부분.\n",
    "            df = df.dropna(how = 'any')\n",
    "            df = df.sort_values(by = 'HE_BMI')\n",
    "            for i in range(len(column_feature)):\n",
    "                ### 8,9제거\n",
    "                if column_feature[i] in list999:\n",
    "                    df.drop(df[(df[column_feature[i]] == 888) | (df[column_feature[i]] == 999)].index, inplace = True)\n",
    "                elif column_feature[i] in list88:\n",
    "                    df.drop(df[(df[column_feature[i]] == 88) | (df[column_feature[i]] == 99)].index, inplace = True)\n",
    "                else:\n",
    "                    df.drop(df[(df[column_feature[i]] == 8) | (df[column_feature[i]] == 9)].index, inplace = True)\n",
    "\n",
    "            BMI_tmp = df['HE_BMI']\n",
    "            for k in range(len(df)): #여기서 문제가 생기는구나. 어떡할까\n",
    "                # print(i+cl*(ii-1)+len(age_list)*(age))\n",
    "                if BMI_tmp.iloc[k] < 23:\n",
    "                    BMI_grade[iter].append(0)\n",
    "                elif 23 <= BMI_tmp.iloc[k]:\n",
    "                    BMI_grade[iter].append(1)\n",
    "            tree_data = df.drop(['HE_BMI'],axis = 1)\n",
    "            \n",
    "            \n",
    "            iteration_test.append([iter,ct])\n",
    "            if tree_data.empty == False:\n",
    "                #########################################################\n",
    "                # data normalizaion\n",
    "                min_max_scaler = preprocessing.MinMaxScaler()\n",
    "                x_scaled = min_max_scaler.fit_transform(tree_data)\n",
    "                tree_data = pd.DataFrame(x_scaled,columns=tree_data.columns)\n",
    "                tree_data['BMI_grade'] = BMI_grade[iter]\n",
    "\n",
    "                X = tree_data.iloc[:,:-1]\n",
    "                y = tree_data.iloc[:,-1:]\n",
    "                # y = y.squeeze()\n",
    "                X_train, X_test, y_train, y_test = train_test_split(X, y, test_size=0.25, random_state=1)\n",
    "\n",
    "                train_ = pd.concat([X_train, y_train], axis=1)\n",
    "                # print(train_)\n",
    "                \n",
    "                cnt_list = train_['BMI_grade'].squeeze()\n",
    "                cnt_list = cnt_list.tolist()\n",
    "                # cnt2 = cnt_list.count(2)\n",
    "                cnt1 = cnt_list.count(1)\n",
    "                cnt0 = cnt_list.count(0)\n",
    "                print(cnt0)\n",
    "                print(cnt1)\n",
    "                # tree_data_1 = y_train.copy()\n",
    "                # print(tree_data_1)\n",
    "\n",
    "                iteration_test[iter].append([cnt0, cnt1])\n",
    "                \n",
    "                # cnt_min = min(cnt0, cnt1, cnt2)\n",
    "                # cnt_max = max(cnt0, cnt1, cnt2)\n",
    "                \n",
    "                # if cnt1 * cnt0 != 0:\n",
    "                #     if cnt1/cnt0 > 1.2:\n",
    "                #         cnt_select = cnt1-cnt0 # 얼마나 차이가 나는지\n",
    "                #         print(cnt_select)\n",
    "                #         local = train_.loc[(train_['BMI_grade']==0)] #0인 갯수가 부족하니까 그것들을 추출\n",
    "                #         idx = local.index.values # 추출한 것의 index\n",
    "                #         select_list = [random.choice(idx) for i in range(cnt_select)] #랜덤으로 추출된 idx들 모음\n",
    "                #         tree_data_2 = train_.loc[select_list]\n",
    "                #         # print(' 0만 추출된 data')\n",
    "                #         # print(tree_data_2)\n",
    "                #         tree_data = pd.concat([train_,tree_data_2], ignore_index=True)\n",
    "                #         # print(tree_data)\n",
    "                        \n",
    "                #         X_train = tree_data.iloc[:,:-1]\n",
    "                #         y_train = tree_data.iloc[:,-1:]\n",
    "\n",
    "                #     elif cnt0/cnt1 > 1.2:\n",
    "                #         cnt_select = cnt0-cnt1\n",
    "                #         print(cnt_select)\n",
    "                #         local = train_.loc[(train_['BMI_grade']==1)]\n",
    "                #         idx = local.index.values\n",
    "                #         select_list = [random.choice(idx) for i in range(cnt_select)]\n",
    "                #         tree_data_2 = train_.loc[select_list]\n",
    "                #         # print(' 1만 추출된 data')\n",
    "                #         # print(tree_data_2)\n",
    "                #         tree_data = pd.concat([train_,tree_data_2], ignore_index=True)\n",
    "                #         # print(tree_data)\n",
    "\n",
    "                        # X_train = tree_data.iloc[:,:-1]\n",
    "                        # y_train = tree_data.iloc[:,-1:]\n",
    "\n",
    "                ###############\n",
    "                ### SMOTE #####\n",
    "                ###############\n",
    "                sm = SMOTE(random_state=12)#, ratio = 1.0)\n",
    "                X_train, y_train = sm.fit_resample(X_train, y_train)\n",
    "                #######################\n",
    "                # cnt_list = tree_data['BMI_grade'].tolist()\n",
    "                # cnt1 = cnt_list.count(1)\n",
    "                # cnt0 = cnt_list.count(0)\n",
    "                ########################\n",
    "\n",
    "                cnt_list = y_train['BMI_grade'].squeeze()\n",
    "                cnt_list = cnt_list.tolist()\n",
    "                # cnt2 = cnt_list.count(2)\n",
    "                cnt1 = cnt_list.count(1)\n",
    "                cnt0 = cnt_list.count(0)\n",
    "                print(cnt0)\n",
    "                print(cnt1)\n",
    "                \n",
    "                train_data_size = len(y_train)\n",
    "                test_data_size = len(y_test)\n",
    "                \n",
    "                ##########################################################\n",
    "                \n",
    "                \n",
    "                clf = LogisticRegression(max_iter=1000)\n",
    "                clf.fit(X_train,y_train)\n",
    "                y_pred = clf.predict(X_test)\n",
    "                r_score = recall_score(y_test, y_pred)\n",
    "                p_score = precision_score(y_test, y_pred)\n",
    "                f_score = f1_score(y_test, y_pred)\n",
    "                accuracy = clf.score(X_test,y_test)\n",
    "                TP = perf_measure(np.array(y_test), y_pred)[0]\n",
    "                FP = perf_measure(np.array(y_test), y_pred)[1]\n",
    "                TN = perf_measure(np.array(y_test), y_pred)[2]\n",
    "                FN = perf_measure(np.array(y_test), y_pred)[3]\n",
    "                #print(str(ii) + ' ' + str(age_list[age]) + ' ' + str(i+1) + 'th group')\n",
    "                \n",
    "                print_list.append([])\n",
    "                print_list[ct].append(str(sex))\n",
    "                print_list[ct].append(str(age_list[age]))\n",
    "                # print_list[ct].append(str(print_name[i]) + \"th_group\")\n",
    "                print_list[ct].append(str(column_feature))\n",
    "                print_list[ct].append(str(cnt0))\n",
    "                print_list[ct].append(str(cnt1))\n",
    "                \n",
    "                print_list[ct].append(str(train_data_size))\n",
    "                print_list[ct].append(str(test_data_size))\n",
    "                \n",
    "                print_list[ct].append(TP)\n",
    "                print_list[ct].append(FP)\n",
    "                print_list[ct].append(TN)\n",
    "                print_list[ct].append(FN)\n",
    "                print_list[ct].append(np.round(accuracy,3))\n",
    "                print_list[ct].append(np.round(r_score,3))\n",
    "                print_list[ct].append(np.round(p_score,3))\n",
    "                print_list[ct].append(np.round(f_score,3))\n",
    "                \n",
    "                fpr,tpr, threshold = roc_curve(y_test,clf.predict_proba(X_test)[:, 1])\n",
    "                plt.figure()\n",
    "                plt.plot(fpr,tpr,label = \"roc curve\")\n",
    "                plt.xlabel(\"FPR\")\n",
    "                plt.ylabel(\"TPR\")\n",
    "\n",
    "                plt.legend(loc = 4)\n",
    "                plt.fill_between(fpr,tpr, alpha=0.5)\n",
    "                clf_auc = roc_auc_score(y_test, clf.predict_proba(X_test)[:, 1])\n",
    "                plt.text(0.65,0.2,\"AUC score: {:.3f}\".format(clf_auc))\n",
    "                plt.title('top ' + str(top_count) + ' ' + str(ii) + ' ' + str(age_list[age]) + ' LR'  + sup + '.png')\n",
    "                plt.savefig(PATH +'/top ' + str(top_count) + ' ' + str(ii) + ' ' + str(age_list[age]) + ' LR' + sup + '.png')\n",
    "                plt.close()\n",
    "                \n",
    "                from sklearn.model_selection import cross_val_predict\n",
    "                from sklearn.metrics import confusion_matrix\n",
    "                y_train_pred = cross_val_predict(clf, X_train, y_train.values.ravel())\n",
    "                conf_mx = confusion_matrix(y_train.values.ravel(), y_train_pred)\n",
    "                plt.matshow(conf_mx, cmap=plt.cm.gray)\n",
    "                plt.savefig(PATH +\"/Top \" + str(top_count)\n",
    "                            + \" \" + str(age_list[age])\n",
    "                            + \" \" + str(ii) + ' confusion-matrix' + sup + '.png')\n",
    "                \n",
    "                ct += 1\n",
    "                \n",
    "            elif cnt1 * cnt0 == 0:\n",
    "                print('확인해야함!!')\n",
    "                print(column_feature[i])\n",
    "            \n",
    "            iter += 1\n",
    "        \n",
    "        \n",
    "    pl = pd.DataFrame(print_list,\n",
    "                        columns=['gender',\n",
    "                                '<= age <',\n",
    "                                # \"group\",\n",
    "                                \"list\",\n",
    "                                'Number Of 0',\n",
    "                                'Number of 1',\n",
    "                                'Train_data_size',\n",
    "                                'Test_data_size',\n",
    "                                'TP',\n",
    "                                'FP',\n",
    "                                'TN',\n",
    "                                'FN',\n",
    "                                'accuracy score',\n",
    "                                'recall score',\n",
    "                                'precision score',\n",
    "                                'f1 score'])\n",
    "\n",
    "    pl.to_csv(PATH + '/top ' + str(top_count) + ' LR_혈액검사 데이터' + sup + '.csv', index=False)"
   ]
  },
  {
   "cell_type": "markdown",
   "metadata": {},
   "source": []
  },
  {
   "cell_type": "markdown",
   "metadata": {},
   "source": [
    "MULTICLASS, gender = [1,2], age = [[19, 39], [39, 59], [59, 79]]"
   ]
  },
  {
   "cell_type": "code",
   "execution_count": null,
   "metadata": {},
   "outputs": [],
   "source": [
    "iter = 0\n",
    "iteration_test = []\n",
    "BMI_grade = []\n",
    "ii = 0\n",
    "sup = \"_OVR_SMOTE_micro_2\"\n",
    "PATH = \"LR_Result\" + sup\n",
    "import os\n",
    "os.makedirs(PATH,exist_ok=True)\n",
    "for top_count in [4,5,6,7,8]:\n",
    "    print_list = []\n",
    "    ct = 0\n",
    "    for ii in [1,2]: # sex\n",
    "        data = pd.read_csv(\"DATA/hn2016_all.csv\",encoding='utf-8', low_memory=False)\n",
    "        data2 = pd.read_csv(\"DATA/hn2017_all.csv\",encoding='utf-8', low_memory=False)\n",
    "        data3 = pd.read_csv(\"DATA/hn2018_all.csv\",encoding='utf-8', low_memory=False)\n",
    "        data4 = pd.read_csv(\"DATA/hn2019_all.csv\",encoding='utf-8', low_memory=False)\n",
    "        \n",
    "        gender = data['sex']\n",
    "        gender2 = data2['sex']\n",
    "        gender3 = data3['sex']\n",
    "        gender4 = data4['sex']\n",
    "        \n",
    "        age_list = [[19, 39], [39, 59], [59, 79]]\n",
    "        # age_list = [[19, 49], [49, 79]]\n",
    "        for age in range(len(age_list)): \n",
    "            \n",
    "            data_copy = data[(data['age']>=age_list[age][0]) & (data['age']<age_list[age][1])].copy()\n",
    "            data2_copy = data2[(data2['age']>=age_list[age][0]) & (data2['age']<age_list[age][1])].copy()\n",
    "            data3_copy = data3[(data3['age']>=age_list[age][0]) & (data3['age']<age_list[age][1])].copy()\n",
    "            data4_copy = data4[(data4['age']>=age_list[age][0]) & (data4['age']<age_list[age][1])].copy()\n",
    "            \n",
    "            sex = [ii]\n",
    "            data_copy = data_copy.loc[gender.isin(sex)]\n",
    "            data2_copy = data2_copy.loc[gender2.isin(sex)]\n",
    "            data3_copy = data3_copy.loc[gender3.isin(sex)]\n",
    "            data4_copy = data4_copy.loc[gender4.isin(sex)]\n",
    "            \n",
    "            Feature_Selection = pd.read_csv('RFC_Feature_Selection/RFC_feature_selection_Multiclass_OverSampling.csv', index_col = 0)\n",
    "            filtering = Feature_Selection[(Feature_Selection['gender'] == ii) & (Feature_Selection['age'] == str(age_list[age]))]\n",
    "            column_feature = ['HE_BMI'] + list(filtering.index[0:top_count])\n",
    "            \n",
    "            \n",
    "            data_select = data_copy[column_feature].copy()\n",
    "            data_select2 = data2_copy[column_feature].copy()\n",
    "            data_select3 = data3_copy[column_feature].copy()\n",
    "            data_select4 = data4_copy[column_feature].copy()\n",
    "            for i in range(len(column_feature)):\n",
    "                BMI_grade.append([])\n",
    "                ## 숫자로 바꿔주는 코드임.\n",
    "                data_select[column_feature[i]] = pd.to_numeric(data_select[column_feature[i]], errors='coerce').astype(float).round(2)\n",
    "                data_select2[column_feature[i]] = pd.to_numeric(data_select2[column_feature[i]], errors='coerce').astype(float).round(2)\n",
    "                data_select3[column_feature[i]] = pd.to_numeric(data_select3[column_feature[i]], errors='coerce').astype(float).round(2)\n",
    "                data_select4[column_feature[i]] = pd.to_numeric(data_select4[column_feature[i]], errors='coerce').astype(float).round(2)            #print(len(df)) #16000개\n",
    "                \n",
    "\n",
    "            df1 = data_select[column_feature]\n",
    "            df2 = data_select2[column_feature]\n",
    "            df3 = data_select3[column_feature]\n",
    "            df4 = data_select4[column_feature]\n",
    "            \n",
    "            df = pd.concat([df1, df2, df3, df4], ignore_index=True) # 18년 19년 자료 합쳐주는 부분.\n",
    "            df = df.dropna(how = 'any')\n",
    "            df = df.sort_values(by = 'HE_BMI')\n",
    "            for i in range(len(column_feature)):\n",
    "                ### 8,9제거\n",
    "                if column_feature[i] in list999:\n",
    "                    df.drop(df[(df[column_feature[i]] == 888) | (df[column_feature[i]] == 999)].index, inplace = True)\n",
    "                elif column_feature[i] in list88:\n",
    "                    df.drop(df[(df[column_feature[i]] == 88) | (df[column_feature[i]] == 99)].index, inplace = True)\n",
    "                else:\n",
    "                    df.drop(df[(df[column_feature[i]] == 8) | (df[column_feature[i]] == 9)].index, inplace = True)\n",
    "\n",
    "            BMI_tmp = df['HE_BMI']\n",
    "            for k in range(len(df)): #여기서 문제가 생기는구나. 어떡할까\n",
    "                # print(i+cl*(ii-1)+len(age_list)*(age))\n",
    "                if BMI_tmp.iloc[k] < 23:\n",
    "                    BMI_grade[iter].append(0)\n",
    "                elif 23 <= BMI_tmp.iloc[k] < 25:\n",
    "                    BMI_grade[iter].append(1)\n",
    "                elif 25 <= BMI_tmp.iloc[k]:\n",
    "                    BMI_grade[iter].append(2)\n",
    "            tree_data = df.drop(['HE_BMI'],axis = 1)\n",
    "            \n",
    "            \n",
    "            iteration_test.append([iter,ct])\n",
    "            if tree_data.empty == False:\n",
    "                #########################################################\n",
    "                # data normalizaion\n",
    "                min_max_scaler = preprocessing.MinMaxScaler()\n",
    "                x_scaled = min_max_scaler.fit_transform(tree_data)\n",
    "                tree_data = pd.DataFrame(x_scaled,columns=tree_data.columns)\n",
    "                tree_data['BMI_grade'] = BMI_grade[iter]\n",
    "\n",
    "                X = tree_data.iloc[:,:-1]\n",
    "                y = tree_data.iloc[:,-1:]\n",
    "                # y = y.squeeze()\n",
    "\n",
    "                # from sklearn.preprocessing import label_binarize\n",
    "                # y = label_binarize(y, classes=[0, 1, 2])\n",
    "                n_classes = 3 #고정\n",
    "                \n",
    "                X_train, X_test, y_train, y_test = train_test_split(X, y, test_size=0.25, random_state=1)\n",
    "\n",
    "\n",
    "                cnt_dict = dict(Counter(y_train['BMI_grade']))\n",
    "                cnt0 = cnt_dict[0]\n",
    "                cnt1 = cnt_dict[1]\n",
    "                cnt2 = cnt_dict[2]\n",
    "                print(cnt0, cnt1, cnt2)\n",
    "\n",
    "                # #######################\n",
    "                # ###### MANUALLY #######\n",
    "                # #######################\n",
    "                                \n",
    "                # cnt_max = max(cnt0,cnt1,cnt2)\n",
    "                # train_ = pd.concat([X_train, y_train], axis=1)\n",
    "                \n",
    "                # n_resampl_0 = cnt_max - cnt0\n",
    "                # if n_resampl_0 != 0:\n",
    "                #     local = train_.loc[(train_['BMI_grade']==0)] #0인 갯수가 부족하니까 그것들을 추출\n",
    "                #     idx = local.index.values # 추출한 것의 index\n",
    "                #     select_list = [random.choice(idx) for i in range(n_resampl_0)] #랜덤으로 추출된 idx들 모음\n",
    "                #     tree_data_2 = train_.loc[select_list]\n",
    "                #     train_ = pd.concat([train_,tree_data_2], ignore_index=True)\n",
    "                \n",
    "                # n_resampl_1 = cnt_max - cnt1\n",
    "                # if n_resampl_1 != 0:\n",
    "                #     local = train_.loc[(train_['BMI_grade']==1)]\n",
    "                #     idx = local.index.values # 추출한 것의 index\n",
    "                #     select_list = [random.choice(idx) for i in range(n_resampl_1)] #랜덤으로 추출된 idx들 모음\n",
    "                #     tree_data_2 = train_.loc[select_list]\n",
    "                #     train_ = pd.concat([train_,tree_data_2], ignore_index=True)\n",
    "                \n",
    "                # n_resampl_2 = cnt_max - cnt2\n",
    "                # if n_resampl_2 != 0:\n",
    "                #     local = train_.loc[(train_['BMI_grade']==2)]\n",
    "                #     idx = local.index.values # 추출한 것의 index\n",
    "                #     select_list = [random.choice(idx) for i in range(n_resampl_2)] #랜덤으로 추출된 idx들 모음\n",
    "                #     tree_data_2 = train_.loc[select_list]\n",
    "                #     train_ = pd.concat([train_,tree_data_2], ignore_index=True)\n",
    "                \n",
    "                # X_train = train_.iloc[:,:-1]\n",
    "                # y_train = train_.iloc[:,-1:]\n",
    "\n",
    "                ###############\n",
    "                ### SMOTE #####\n",
    "                ###############\n",
    "                sm = SMOTE(random_state=12)#, ratio = 1.0)\n",
    "                X_train, y_train = sm.fit_resample(X_train, y_train)\n",
    "                \n",
    "                cnt_dict = dict(Counter(y_train['BMI_grade']))\n",
    "                cnt0 = cnt_dict[0]\n",
    "                cnt1 = cnt_dict[1]\n",
    "                cnt2 = cnt_dict[2]\n",
    "                print('after augmentation')\n",
    "                print(cnt0, cnt1, cnt2)\n",
    "                print('------------------')\n",
    "                ##########################################################\n",
    "                clf = LogisticRegression(multi_class='ovr')\n",
    "                parameters = { \"penalty\" : [\"l2\", \"l1\"], \"C\" : [0.01, 0.1, 1, 5, 10] }\n",
    "                ##################GRID SEARCH CV\n",
    "                # parameters = {'gamma':[0.01, 0.1,0.5,1,5,10,30,50],\n",
    "                #             'C':[0.01, 0.1,0.5,1,5,10,30,50]}\n",
    "                grid_dtree = GridSearchCV(clf,param_grid=parameters,cv=3,refit=True)\n",
    "                grid_dtree.fit(X_train,y_train)\n",
    "\n",
    "                print('GridSearchCV 최적 파라미터:', grid_dtree.best_params_)\n",
    "                print('GridSearchCV 최고 정확도: {0:.4f}'.format(grid_dtree.best_score_))\n",
    "\n",
    "                fig = plt.figure(2*i)\n",
    "                # results = pd.DataFrame(grid_dtree.cv_results_)\n",
    "                # scores = np.array(results.mean_test_score).reshape(8, 8)\n",
    "                # /mg.tools.heatmap(scores, xlabel='gamma', xticklabels=parameters['gamma'],ylabel='C', yticklabels=parameters['C'], cmap=\"viridis\")\n",
    "                best_param = list(grid_dtree.best_params_.values())\n",
    "                # plt.title(grid_dtree.best_params_.items())\n",
    "                # plt.savefig(PATH + '/top ' + str(top_count) + ' ' + str(ii) + ' ' + str(age_list[age]) + ' ' + str(i+1) + \"_\" + 'Heatmap' + \".png\", dpi=300)\n",
    "                # plt.close()\n",
    "                # plt.show()\n",
    "\n",
    "                clf = LogisticRegression(penalty = best_param[1], C = best_param[0], max_iter=1000, multi_class='ovr', solver='lbfgs')\n",
    "                clf.fit(X_train,y_train.values.ravel())\n",
    "                y_pred = clf.predict(X_test) \n",
    "\n",
    "                r_score = recall_score(y_test, y_pred, average = 'micro')\n",
    "                p_score = precision_score(y_test, y_pred, average = 'micro')\n",
    "                f_score = f1_score(y_test, y_pred, average = 'micro')\n",
    "                accuracy = clf.score(X_test,y_test)#, average = None)\n",
    "                # TP = perf_measure(np.array(y_test), y_pred)[0]\n",
    "                # FP = perf_measure(np.array(y_test), y_pred)[1]\n",
    "                # TN = perf_measure(np.array(y_test), y_pred)[2]\n",
    "                # FN = perf_measure(np.array(y_test), y_pred)[3]\n",
    "                \n",
    "                print_list.append([])\n",
    "                print_list[ct].append(str(sex))\n",
    "                print_list[ct].append(str(age_list[age]))\n",
    "                print_list[ct].append(str(column_feature))\n",
    "                print_list[ct].append(str(cnt0))\n",
    "                print_list[ct].append(str(cnt1))\n",
    "                print_list[ct].append(str(cnt2))\n",
    "                \n",
    "                print_list[ct].append(np.round(accuracy,3))\n",
    "                print_list[ct].append(np.round(r_score,3))\n",
    "                print_list[ct].append(np.round(p_score,3))\n",
    "                print_list[ct].append(np.round(f_score,3))\n",
    "                \n",
    "\n",
    "                # Compute ROC curve and ROC area for each class\n",
    "                fpr = dict()\n",
    "                tpr = dict()\n",
    "                roc_auc = dict()\n",
    "                \n",
    "                y_test = label_binarize(y_test, classes=[0, 1, 2]) # SVC input이 one hot incoding으로 안들어감.\n",
    "                \n",
    "                for i in range(n_classes):\n",
    "                    fpr[i], tpr[i], _ = roc_curve(y_test[:, i], clf.predict_proba(X_test)[:, 1])\n",
    "                    roc_auc[i] = auc(fpr[i], tpr[i])\n",
    "                \n",
    "                # Compute micro-average ROC curve and ROC area\n",
    "                fpr[\"micro\"], tpr[\"micro\"], _ = roc_curve(y_test.ravel(), clf.predict_proba(X_test).ravel())\n",
    "                roc_auc[\"micro\"] = auc(fpr[\"micro\"], tpr[\"micro\"])\n",
    "                lw = 2\n",
    "                \n",
    "                # First aggregate all false positive rates\n",
    "                all_fpr = np.unique(np.concatenate([fpr[i] for i in range(n_classes)]))\n",
    "\n",
    "                # Then interpolate all ROC curves at this points\n",
    "                mean_tpr = np.zeros_like(all_fpr)\n",
    "                for i in range(n_classes):\n",
    "                    mean_tpr += np.interp(all_fpr, fpr[i], tpr[i])\n",
    "\n",
    "                # Finally average it and compute AUC\n",
    "                mean_tpr /= n_classes\n",
    "\n",
    "                fpr[\"macro\"] = all_fpr\n",
    "                tpr[\"macro\"] = mean_tpr\n",
    "                roc_auc[\"macro\"] = auc(fpr[\"macro\"], tpr[\"macro\"])\n",
    "\n",
    "                # Plot all ROC curves\n",
    "                plt.figure(figsize=(9,9))\n",
    "                plt.plot(\n",
    "                    fpr[\"micro\"],\n",
    "                    tpr[\"micro\"],\n",
    "                    label=\"micro-average ROC curve (area = {0:0.2f})\".format(roc_auc[\"micro\"]),\n",
    "                    color=\"deeppink\",\n",
    "                    linestyle=\":\",\n",
    "                    linewidth=4,\n",
    "                )\n",
    "\n",
    "                plt.plot(\n",
    "                    fpr[\"macro\"],\n",
    "                    tpr[\"macro\"],\n",
    "                    label=\"macro-average ROC curve (area = {0:0.2f})\".format(roc_auc[\"macro\"]),\n",
    "                    color=\"navy\",\n",
    "                    linestyle=\":\",\n",
    "                    linewidth=4,\n",
    "                )\n",
    "\n",
    "                colors = cycle([\"aqua\", \"darkorange\", \"cornflowerblue\"])\n",
    "                for i, color in zip(range(n_classes), colors):\n",
    "                    plt.plot(\n",
    "                        fpr[i],\n",
    "                        tpr[i],\n",
    "                        color=color,\n",
    "                        lw=lw,\n",
    "                        label=\"ROC curve of class {0} (area = {1:0.2f})\".format(i, roc_auc[i]),\n",
    "                    )\n",
    "\n",
    "                plt.plot([0, 1], [0, 1], \"k--\", lw=lw)\n",
    "                plt.xlim([0.0, 1.0])\n",
    "                plt.ylim([0.0, 1.05])\n",
    "                plt.xlabel(\"False Positive Rate\", fontsize=20)\n",
    "                plt.ylabel(\"True Positive Rate\", fontsize=20)\n",
    "                plt.title(\"Top \" + str(top_count)\n",
    "                            + \" \" + str(age_list[age])\n",
    "                            + \" \" + str(ii) + ' Multiclass ROC', fontsize=20)\n",
    "                plt.legend(loc=\"lower right\", fontsize=15)\n",
    "                plt.savefig(PATH +\"/Top \" + str(top_count)\n",
    "                            + \" \" + str(age_list[age])\n",
    "                            + \" \" + str(ii) + ' ROC-CURVE' + sup + '.png')\n",
    "                plt.show()\n",
    "                from sklearn.model_selection import cross_val_predict\n",
    "                from sklearn.metrics import confusion_matrix\n",
    "                y_train_pred = cross_val_predict(clf, X_train, y_train.values.ravel())\n",
    "                conf_mx = confusion_matrix(y_train.values.ravel(), y_train_pred)\n",
    "                plt.matshow(conf_mx, cmap=plt.cm.gray)\n",
    "                plt.savefig(PATH +\"/Top \" + str(top_count)\n",
    "                            + \" \" + str(age_list[age])\n",
    "                            + \" \" + str(ii) + ' confusion-matrix' + sup + '.png')\n",
    "                y_prob = clf.predict_proba(X_test).ravel()\n",
    "                macro_roc_auc_ovo = roc_auc_score(y_test.ravel(), y_prob, multi_class=\"ovo\", average=\"macro\")\n",
    "                weighted_roc_auc_ovo = roc_auc_score(\n",
    "                    y_test.ravel(), y_prob, multi_class=\"ovo\", average=\"weighted\"\n",
    "                )\n",
    "                micro_roc_auc_ovo = roc_auc_score(\n",
    "                    y_test.ravel(), y_prob, multi_class=\"ovo\", average=\"micro\"\n",
    "                )\n",
    "                macro_roc_auc_ovr = roc_auc_score(y_test.ravel(), y_prob, multi_class=\"ovr\", average=\"macro\")\n",
    "                weighted_roc_auc_ovr = roc_auc_score(\n",
    "                    y_test.ravel(), y_prob, multi_class=\"ovr\", average=\"weighted\"\n",
    "                )\n",
    "                micro_roc_auc_ovr = roc_auc_score(\n",
    "                    y_test.ravel(), y_prob, multi_class=\"ovr\", average=\"micro\"\n",
    "                )\n",
    "                print(\n",
    "                    \"One-vs-One ROC AUC scores:\\n{:.6f} (macro),\\n{:.6f} \"\n",
    "                    \"(weighted by prevalence)\".format(macro_roc_auc_ovo, weighted_roc_auc_ovo)\n",
    "                )\n",
    "                print(\n",
    "                    \"One-vs-Rest ROC AUC scores:\\n{:.6f} (macro),\\n{:.6f} \"\n",
    "                    \"(weighted by prevalence)\".format(macro_roc_auc_ovr, weighted_roc_auc_ovr)\n",
    "                )\n",
    "                \n",
    "                print_list[ct].append(np.round(macro_roc_auc_ovo,3))\n",
    "                print_list[ct].append(np.round(micro_roc_auc_ovo,3))\n",
    "                print_list[ct].append(np.round(weighted_roc_auc_ovo,3))\n",
    "                print_list[ct].append(np.round(macro_roc_auc_ovr,3))\n",
    "                print_list[ct].append(np.round(micro_roc_auc_ovo,3))\n",
    "                print_list[ct].append(np.round(weighted_roc_auc_ovr,3))\n",
    "                \n",
    "                ct += 1\n",
    "                \n",
    "            iter += 1\n",
    "            \n",
    "            \n",
    "    pl = pd.DataFrame(print_list,\n",
    "                        columns=['gender',\n",
    "                                '<= age <',\n",
    "                                # \"group\",\n",
    "                                \"list\",\n",
    "                                'Number Of 0',\n",
    "                                'Number of 1',\n",
    "                                'Number of 2',\n",
    "                                'accuracy score',\n",
    "                                'recall score',\n",
    "                                'precision score',\n",
    "                                'f1 score',\n",
    "                                'OVO AUC macro',\n",
    "                                'OVO AUC micro',\n",
    "                                'OVO AUC weighted',\n",
    "                                'OVR AUC macro',\n",
    "                                'OVR AUC micro',\n",
    "                                'OVR AUC weighted'])\n",
    "\n",
    "    pl.to_csv(PATH + '/top ' + str(top_count) + ' LR_혈액검사 데이터' + sup + '.csv', index=False)"
   ]
  },
  {
   "cell_type": "markdown",
   "metadata": {},
   "source": [
    "Multiclass gender = [1,2], age = [[19, 49], [49, 79]]"
   ]
  },
  {
   "cell_type": "code",
   "execution_count": null,
   "metadata": {},
   "outputs": [],
   "source": [
    "iter = 0\n",
    "iteration_test = []\n",
    "BMI_grade = []\n",
    "ii = 0\n",
    "sup = \"_OVR_SMOTE_micro\"\n",
    "PATH = \"LR_Result_194979\" + sup\n",
    "import os\n",
    "os.makedirs(PATH,exist_ok=True)\n",
    "for top_count in [4,5,6,7,8]:\n",
    "    print_list = []\n",
    "    ct = 0\n",
    "    for ii in [1,2]: # sex\n",
    "        data = pd.read_csv(\"DATA/hn2016_all.csv\",encoding='utf-8', low_memory=False)\n",
    "        data2 = pd.read_csv(\"DATA/hn2017_all.csv\",encoding='utf-8', low_memory=False)\n",
    "        data3 = pd.read_csv(\"DATA/hn2018_all.csv\",encoding='utf-8', low_memory=False)\n",
    "        data4 = pd.read_csv(\"DATA/hn2019_all.csv\",encoding='utf-8', low_memory=False)\n",
    "        \n",
    "        gender = data['sex']\n",
    "        gender2 = data2['sex']\n",
    "        gender3 = data3['sex']\n",
    "        gender4 = data4['sex']\n",
    "        \n",
    "        age_list = [[19, 49], [49, 79]]\n",
    "        for age in range(len(age_list)): \n",
    "            \n",
    "            data_copy = data[(data['age']>=age_list[age][0]) & (data['age']<age_list[age][1])].copy()\n",
    "            data2_copy = data2[(data2['age']>=age_list[age][0]) & (data2['age']<age_list[age][1])].copy()\n",
    "            data3_copy = data3[(data3['age']>=age_list[age][0]) & (data3['age']<age_list[age][1])].copy()\n",
    "            data4_copy = data4[(data4['age']>=age_list[age][0]) & (data4['age']<age_list[age][1])].copy()\n",
    "            \n",
    "            sex = [ii]\n",
    "            data_copy = data_copy.loc[gender.isin(sex)]\n",
    "            data2_copy = data2_copy.loc[gender2.isin(sex)]\n",
    "            data3_copy = data3_copy.loc[gender3.isin(sex)]\n",
    "            data4_copy = data4_copy.loc[gender4.isin(sex)]\n",
    "            \n",
    "            Feature_Selection = pd.read_csv('RFC_Feature_Selection/RFC_feature_selection_Multiclass_OverSampling_194979.csv', index_col = 0)\n",
    "            filtering = Feature_Selection[(Feature_Selection['gender'] == ii) & (Feature_Selection['age'] == str(age_list[age]))]\n",
    "            column_feature = ['HE_BMI'] + list(filtering.index[0:top_count])\n",
    "            \n",
    "            \n",
    "            data_select = data_copy[column_feature].copy()\n",
    "            data_select2 = data2_copy[column_feature].copy()\n",
    "            data_select3 = data3_copy[column_feature].copy()\n",
    "            data_select4 = data4_copy[column_feature].copy()\n",
    "            for i in range(len(column_feature)):\n",
    "                BMI_grade.append([])\n",
    "                ## 숫자로 바꿔주는 코드임.\n",
    "                data_select[column_feature[i]] = pd.to_numeric(data_select[column_feature[i]], errors='coerce').astype(float).round(2)\n",
    "                data_select2[column_feature[i]] = pd.to_numeric(data_select2[column_feature[i]], errors='coerce').astype(float).round(2)\n",
    "                data_select3[column_feature[i]] = pd.to_numeric(data_select3[column_feature[i]], errors='coerce').astype(float).round(2)\n",
    "                data_select4[column_feature[i]] = pd.to_numeric(data_select4[column_feature[i]], errors='coerce').astype(float).round(2)            #print(len(df)) #16000개\n",
    "                \n",
    "\n",
    "            df1 = data_select[column_feature]\n",
    "            df2 = data_select2[column_feature]\n",
    "            df3 = data_select3[column_feature]\n",
    "            df4 = data_select4[column_feature]\n",
    "            \n",
    "            df = pd.concat([df1, df2, df3, df4], ignore_index=True) # 18년 19년 자료 합쳐주는 부분.\n",
    "            df = df.dropna(how = 'any')\n",
    "            df = df.sort_values(by = 'HE_BMI')\n",
    "            for i in range(len(column_feature)):\n",
    "                ### 8,9제거\n",
    "                if column_feature[i] in list999:\n",
    "                    df.drop(df[(df[column_feature[i]] == 888) | (df[column_feature[i]] == 999)].index, inplace = True)\n",
    "                elif column_feature[i] in list88:\n",
    "                    df.drop(df[(df[column_feature[i]] == 88) | (df[column_feature[i]] == 99)].index, inplace = True)\n",
    "                else:\n",
    "                    df.drop(df[(df[column_feature[i]] == 8) | (df[column_feature[i]] == 9)].index, inplace = True)\n",
    "\n",
    "            BMI_tmp = df['HE_BMI']\n",
    "            for k in range(len(df)): #여기서 문제가 생기는구나. 어떡할까\n",
    "                # print(i+cl*(ii-1)+len(age_list)*(age))\n",
    "                if BMI_tmp.iloc[k] < 23:\n",
    "                    BMI_grade[iter].append(0)\n",
    "                elif 23 <= BMI_tmp.iloc[k] < 25:\n",
    "                    BMI_grade[iter].append(1)\n",
    "                elif 25 <= BMI_tmp.iloc[k]:\n",
    "                    BMI_grade[iter].append(2)\n",
    "            tree_data = df.drop(['HE_BMI'],axis = 1)\n",
    "            \n",
    "            \n",
    "            iteration_test.append([iter,ct])\n",
    "            if tree_data.empty == False:\n",
    "                #########################################################\n",
    "                # data normalizaion\n",
    "                min_max_scaler = preprocessing.MinMaxScaler()\n",
    "                x_scaled = min_max_scaler.fit_transform(tree_data)\n",
    "                tree_data = pd.DataFrame(x_scaled,columns=tree_data.columns)\n",
    "                tree_data['BMI_grade'] = BMI_grade[iter]\n",
    "\n",
    "                X = tree_data.iloc[:,:-1]\n",
    "                y = tree_data.iloc[:,-1:]\n",
    "                # y = y.squeeze()\n",
    "\n",
    "                # from sklearn.preprocessing import label_binarize\n",
    "                # y = label_binarize(y, classes=[0, 1, 2])\n",
    "                n_classes = 3 #고정\n",
    "                \n",
    "                X_train, X_test, y_train, y_test = train_test_split(X, y, test_size=0.25, random_state=1)\n",
    "\n",
    "\n",
    "                cnt_dict = dict(Counter(y_train['BMI_grade']))\n",
    "                cnt0 = cnt_dict[0]\n",
    "                cnt1 = cnt_dict[1]\n",
    "                cnt2 = cnt_dict[2]\n",
    "                print(cnt0, cnt1, cnt2)\n",
    "\n",
    "                # #######################\n",
    "                # ###### MANUALLY #######\n",
    "                # #######################\n",
    "                                \n",
    "                # cnt_max = max(cnt0,cnt1,cnt2)\n",
    "                # train_ = pd.concat([X_train, y_train], axis=1)\n",
    "                \n",
    "                # n_resampl_0 = cnt_max - cnt0\n",
    "                # if n_resampl_0 != 0:\n",
    "                #     local = train_.loc[(train_['BMI_grade']==0)] #0인 갯수가 부족하니까 그것들을 추출\n",
    "                #     idx = local.index.values # 추출한 것의 index\n",
    "                #     select_list = [random.choice(idx) for i in range(n_resampl_0)] #랜덤으로 추출된 idx들 모음\n",
    "                #     tree_data_2 = train_.loc[select_list]\n",
    "                #     train_ = pd.concat([train_,tree_data_2], ignore_index=True)\n",
    "                \n",
    "                # n_resampl_1 = cnt_max - cnt1\n",
    "                # if n_resampl_1 != 0:\n",
    "                #     local = train_.loc[(train_['BMI_grade']==1)]\n",
    "                #     idx = local.index.values # 추출한 것의 index\n",
    "                #     select_list = [random.choice(idx) for i in range(n_resampl_1)] #랜덤으로 추출된 idx들 모음\n",
    "                #     tree_data_2 = train_.loc[select_list]\n",
    "                #     train_ = pd.concat([train_,tree_data_2], ignore_index=True)\n",
    "                \n",
    "                # n_resampl_2 = cnt_max - cnt2\n",
    "                # if n_resampl_2 != 0:\n",
    "                #     local = train_.loc[(train_['BMI_grade']==2)]\n",
    "                #     idx = local.index.values # 추출한 것의 index\n",
    "                #     select_list = [random.choice(idx) for i in range(n_resampl_2)] #랜덤으로 추출된 idx들 모음\n",
    "                #     tree_data_2 = train_.loc[select_list]\n",
    "                #     train_ = pd.concat([train_,tree_data_2], ignore_index=True)\n",
    "                \n",
    "                # X_train = train_.iloc[:,:-1]\n",
    "                # y_train = train_.iloc[:,-1:]\n",
    "\n",
    "                ###############\n",
    "                ### SMOTE #####\n",
    "                ###############\n",
    "                sm = SMOTE(random_state=12)#, ratio = 1.0)\n",
    "                X_train, y_train = sm.fit_resample(X_train, y_train)\n",
    "                \n",
    "                cnt_dict = dict(Counter(y_train['BMI_grade']))\n",
    "                cnt0 = cnt_dict[0]\n",
    "                cnt1 = cnt_dict[1]\n",
    "                cnt2 = cnt_dict[2]\n",
    "                print('after augmentation')\n",
    "                print(cnt0, cnt1, cnt2)\n",
    "                print('------------------')\n",
    "                ##########################################################\n",
    "                clf = LogisticRegression(multi_class='ovr')\n",
    "                parameters = { \"penalty\" : [\"l2\", \"l1\"], \"C\" : [0.01, 0.1, 1, 5, 10] }\n",
    "                ##################GRID SEARCH CV\n",
    "                # parameters = {'gamma':[0.01, 0.1,0.5,1,5,10,30,50],\n",
    "                #             'C':[0.01, 0.1,0.5,1,5,10,30,50]}\n",
    "                grid_dtree = GridSearchCV(clf,param_grid=parameters,cv=3,refit=True)\n",
    "                grid_dtree.fit(X_train,y_train)\n",
    "\n",
    "                print('GridSearchCV 최적 파라미터:', grid_dtree.best_params_)\n",
    "                print('GridSearchCV 최고 정확도: {0:.4f}'.format(grid_dtree.best_score_))\n",
    "\n",
    "                fig = plt.figure(2*i)\n",
    "                # results = pd.DataFrame(grid_dtree.cv_results_)\n",
    "                # scores = np.array(results.mean_test_score).reshape(8, 8)\n",
    "                # /mg.tools.heatmap(scores, xlabel='gamma', xticklabels=parameters['gamma'],ylabel='C', yticklabels=parameters['C'], cmap=\"viridis\")\n",
    "                best_param = list(grid_dtree.best_params_.values())\n",
    "                # plt.title(grid_dtree.best_params_.items())\n",
    "                # plt.savefig(PATH + '/top ' + str(top_count) + ' ' + str(ii) + ' ' + str(age_list[age]) + ' ' + str(i+1) + \"_\" + 'Heatmap' + \".png\", dpi=300)\n",
    "                # plt.close()\n",
    "                # plt.show()\n",
    "\n",
    "                clf = LogisticRegression(penalty = best_param[1], C = best_param[0], max_iter=1000, multi_class='ovr', solver='lbfgs')\n",
    "                clf.fit(X_train,y_train.values.ravel())\n",
    "                y_pred = clf.predict(X_test) \n",
    "\n",
    "                r_score = recall_score(y_test, y_pred, average = 'micro')\n",
    "                p_score = precision_score(y_test, y_pred, average = 'micro')\n",
    "                f_score = f1_score(y_test, y_pred, average = 'micro')\n",
    "                accuracy = clf.score(X_test,y_test)#, average = None)\n",
    "                # TP = perf_measure(np.array(y_test), y_pred)[0]\n",
    "                # FP = perf_measure(np.array(y_test), y_pred)[1]\n",
    "                # TN = perf_measure(np.array(y_test), y_pred)[2]\n",
    "                # FN = perf_measure(np.array(y_test), y_pred)[3]\n",
    "                \n",
    "                print_list.append([])\n",
    "                print_list[ct].append(str(sex))\n",
    "                print_list[ct].append(str(age_list[age]))\n",
    "                print_list[ct].append(str(column_feature))\n",
    "                print_list[ct].append(str(cnt0))\n",
    "                print_list[ct].append(str(cnt1))\n",
    "                print_list[ct].append(str(cnt2))\n",
    "                \n",
    "                print_list[ct].append(np.round(accuracy,3))\n",
    "                print_list[ct].append(np.round(r_score,3))\n",
    "                print_list[ct].append(np.round(p_score,3))\n",
    "                print_list[ct].append(np.round(f_score,3))\n",
    "                \n",
    "\n",
    "                # Compute ROC curve and ROC area for each class\n",
    "                fpr = dict()\n",
    "                tpr = dict()\n",
    "                roc_auc = dict()\n",
    "                \n",
    "                y_test = label_binarize(y_test, classes=[0, 1, 2]) # SVC input이 one hot incoding으로 안들어감.\n",
    "                \n",
    "                for i in range(n_classes):\n",
    "                    fpr[i], tpr[i], _ = roc_curve(y_test[:, i], clf.predict_proba(X_test)[:, 1])\n",
    "                    roc_auc[i] = auc(fpr[i], tpr[i])\n",
    "                \n",
    "                # Compute micro-average ROC curve and ROC area\n",
    "                fpr[\"micro\"], tpr[\"micro\"], _ = roc_curve(y_test.ravel(), clf.predict_proba(X_test).ravel())\n",
    "                roc_auc[\"micro\"] = auc(fpr[\"micro\"], tpr[\"micro\"])\n",
    "                lw = 2\n",
    "                \n",
    "                # First aggregate all false positive rates\n",
    "                all_fpr = np.unique(np.concatenate([fpr[i] for i in range(n_classes)]))\n",
    "\n",
    "                # Then interpolate all ROC curves at this points\n",
    "                mean_tpr = np.zeros_like(all_fpr)\n",
    "                for i in range(n_classes):\n",
    "                    mean_tpr += np.interp(all_fpr, fpr[i], tpr[i])\n",
    "\n",
    "                # Finally average it and compute AUC\n",
    "                mean_tpr /= n_classes\n",
    "\n",
    "                fpr[\"macro\"] = all_fpr\n",
    "                tpr[\"macro\"] = mean_tpr\n",
    "                roc_auc[\"macro\"] = auc(fpr[\"macro\"], tpr[\"macro\"])\n",
    "\n",
    "                # Plot all ROC curves\n",
    "                plt.figure(figsize=(9,9))\n",
    "                plt.plot(\n",
    "                    fpr[\"micro\"],\n",
    "                    tpr[\"micro\"],\n",
    "                    label=\"micro-average ROC curve (area = {0:0.2f})\".format(roc_auc[\"micro\"]),\n",
    "                    color=\"deeppink\",\n",
    "                    linestyle=\":\",\n",
    "                    linewidth=4,\n",
    "                )\n",
    "\n",
    "                plt.plot(\n",
    "                    fpr[\"macro\"],\n",
    "                    tpr[\"macro\"],\n",
    "                    label=\"macro-average ROC curve (area = {0:0.2f})\".format(roc_auc[\"macro\"]),\n",
    "                    color=\"navy\",\n",
    "                    linestyle=\":\",\n",
    "                    linewidth=4,\n",
    "                )\n",
    "\n",
    "                colors = cycle([\"aqua\", \"darkorange\", \"cornflowerblue\"])\n",
    "                for i, color in zip(range(n_classes), colors):\n",
    "                    plt.plot(\n",
    "                        fpr[i],\n",
    "                        tpr[i],\n",
    "                        color=color,\n",
    "                        lw=lw,\n",
    "                        label=\"ROC curve of class {0} (area = {1:0.2f})\".format(i, roc_auc[i]),\n",
    "                    )\n",
    "\n",
    "                plt.plot([0, 1], [0, 1], \"k--\", lw=lw)\n",
    "                plt.xlim([0.0, 1.0])\n",
    "                plt.ylim([0.0, 1.05])\n",
    "                plt.xlabel(\"False Positive Rate\", fontsize=20)\n",
    "                plt.ylabel(\"True Positive Rate\", fontsize=20)\n",
    "                plt.title(\"Top \" + str(top_count)\n",
    "                            + \" \" + str(age_list[age])\n",
    "                            + \" \" + str(ii) + ' Multiclass ROC', fontsize=20)\n",
    "                plt.legend(loc=\"lower right\", fontsize=15)\n",
    "                plt.savefig(PATH +\"/Top \" + str(top_count)\n",
    "                            + \" \" + str(age_list[age])\n",
    "                            + \" \" + str(ii) + ' ROC-CURVE' + sup + '.png')\n",
    "                plt.show()\n",
    "                from sklearn.model_selection import cross_val_predict\n",
    "                from sklearn.metrics import confusion_matrix\n",
    "                y_train_pred = cross_val_predict(clf, X_train, y_train.values.ravel())\n",
    "                conf_mx = confusion_matrix(y_train.values.ravel(), y_train_pred)\n",
    "                plt.matshow(conf_mx, cmap=plt.cm.gray)\n",
    "                plt.savefig(PATH +\"/Top \" + str(top_count)\n",
    "                            + \" \" + str(age_list[age])\n",
    "                            + \" \" + str(ii) + ' confusion-matrix' + sup + '.png')\n",
    "                y_prob = clf.predict_proba(X_test).ravel()\n",
    "                macro_roc_auc_ovo = roc_auc_score(y_test.ravel(), y_prob, multi_class=\"ovo\", average=\"macro\")\n",
    "                weighted_roc_auc_ovo = roc_auc_score(\n",
    "                    y_test.ravel(), y_prob, multi_class=\"ovo\", average=\"weighted\"\n",
    "                )\n",
    "                micro_roc_auc_ovo = roc_auc_score(\n",
    "                    y_test.ravel(), y_prob, multi_class=\"ovo\", average=\"micro\"\n",
    "                )\n",
    "                macro_roc_auc_ovr = roc_auc_score(y_test.ravel(), y_prob, multi_class=\"ovr\", average=\"macro\")\n",
    "                weighted_roc_auc_ovr = roc_auc_score(\n",
    "                    y_test.ravel(), y_prob, multi_class=\"ovr\", average=\"weighted\"\n",
    "                )\n",
    "                micro_roc_auc_ovr = roc_auc_score(\n",
    "                    y_test.ravel(), y_prob, multi_class=\"ovr\", average=\"micro\"\n",
    "                )\n",
    "                print(\n",
    "                    \"One-vs-One ROC AUC scores:\\n{:.6f} (macro),\\n{:.6f} \"\n",
    "                    \"(weighted by prevalence)\".format(macro_roc_auc_ovo, weighted_roc_auc_ovo)\n",
    "                )\n",
    "                print(\n",
    "                    \"One-vs-Rest ROC AUC scores:\\n{:.6f} (macro),\\n{:.6f} \"\n",
    "                    \"(weighted by prevalence)\".format(macro_roc_auc_ovr, weighted_roc_auc_ovr)\n",
    "                )\n",
    "                \n",
    "                print_list[ct].append(np.round(macro_roc_auc_ovo,3))\n",
    "                print_list[ct].append(np.round(micro_roc_auc_ovo,3))\n",
    "                print_list[ct].append(np.round(weighted_roc_auc_ovo,3))\n",
    "                print_list[ct].append(np.round(macro_roc_auc_ovr,3))\n",
    "                print_list[ct].append(np.round(micro_roc_auc_ovo,3))\n",
    "                print_list[ct].append(np.round(weighted_roc_auc_ovr,3))\n",
    "                \n",
    "                ct += 1\n",
    "                \n",
    "            iter += 1\n",
    "            \n",
    "            \n",
    "    pl = pd.DataFrame(print_list,\n",
    "                        columns=['gender',\n",
    "                                '<= age <',\n",
    "                                # \"group\",\n",
    "                                \"list\",\n",
    "                                'Number Of 0',\n",
    "                                'Number of 1',\n",
    "                                'Number of 2',\n",
    "                                'accuracy score',\n",
    "                                'recall score',\n",
    "                                'precision score',\n",
    "                                'f1 score',\n",
    "                                'OVO AUC macro',\n",
    "                                'OVO AUC micro',\n",
    "                                'OVO AUC weighted',\n",
    "                                'OVR AUC macro',\n",
    "                                'OVR AUC micro',\n",
    "                                'OVR AUC weighted'])\n",
    "\n",
    "    pl.to_csv(PATH + '/top ' + str(top_count) + ' LR_혈액검사 데이터' + sup + '.csv', index=False)"
   ]
  },
  {
   "cell_type": "markdown",
   "metadata": {},
   "source": [
    "Multiclass no gender"
   ]
  },
  {
   "cell_type": "code",
   "execution_count": null,
   "metadata": {},
   "outputs": [],
   "source": [
    "iter = 0\n",
    "iteration_test = []\n",
    "BMI_grade = []\n",
    "ii = 0\n",
    "sup = \"_OVR_SMOTE_micro_2\"\n",
    "PATH = \"LR_Result_No_gender\" + sup\n",
    "import os\n",
    "os.makedirs(PATH,exist_ok=True)\n",
    "for top_count in [4,5,6,7,8]:\n",
    "    print_list = []\n",
    "    ct = 0\n",
    "    for ii in [1]:#,2]: # sex\n",
    "        data = pd.read_csv(\"DATA/hn2016_all.csv\",encoding='utf-8', low_memory=False)\n",
    "        data2 = pd.read_csv(\"DATA/hn2017_all.csv\",encoding='utf-8', low_memory=False)\n",
    "        data3 = pd.read_csv(\"DATA/hn2018_all.csv\",encoding='utf-8', low_memory=False)\n",
    "        data4 = pd.read_csv(\"DATA/hn2019_all.csv\",encoding='utf-8', low_memory=False)\n",
    "        \n",
    "        gender = data['sex']\n",
    "        gender2 = data2['sex']\n",
    "        gender3 = data3['sex']\n",
    "        gender4 = data4['sex']\n",
    "        \n",
    "        age_list = [[19, 39], [39, 59], [59, 79]]\n",
    "        # age_list = [[19, 49], [49, 79]]\n",
    "        for age in range(len(age_list)): \n",
    "            \n",
    "            data_copy = data[(data['age']>=age_list[age][0]) & (data['age']<age_list[age][1])].copy()\n",
    "            data2_copy = data2[(data2['age']>=age_list[age][0]) & (data2['age']<age_list[age][1])].copy()\n",
    "            data3_copy = data3[(data3['age']>=age_list[age][0]) & (data3['age']<age_list[age][1])].copy()\n",
    "            data4_copy = data4[(data4['age']>=age_list[age][0]) & (data4['age']<age_list[age][1])].copy()\n",
    "            \n",
    "            # sex = [ii]\n",
    "            # data_copy = data_copy.loc[gender.isin(sex)]\n",
    "            # data2_copy = data2_copy.loc[gender2.isin(sex)]\n",
    "            # data3_copy = data3_copy.loc[gender3.isin(sex)]\n",
    "            # data4_copy = data4_copy.loc[gender4.isin(sex)]\n",
    "            \n",
    "            Feature_Selection = pd.read_csv('RFC_Feature_Selection/RFC_feature_selection_Multiclass_OverSampling_No_gender.csv', index_col = 0)\n",
    "            filtering = Feature_Selection[(Feature_Selection['gender'] == ii) & (Feature_Selection['age'] == str(age_list[age]))]\n",
    "            column_feature = ['HE_BMI'] + list(filtering.index[0:top_count])\n",
    "            \n",
    "            \n",
    "            data_select = data_copy[column_feature].copy()\n",
    "            data_select2 = data2_copy[column_feature].copy()\n",
    "            data_select3 = data3_copy[column_feature].copy()\n",
    "            data_select4 = data4_copy[column_feature].copy()\n",
    "            for i in range(len(column_feature)):\n",
    "                BMI_grade.append([])\n",
    "                ## 숫자로 바꿔주는 코드임.\n",
    "                data_select[column_feature[i]] = pd.to_numeric(data_select[column_feature[i]], errors='coerce').astype(float).round(2)\n",
    "                data_select2[column_feature[i]] = pd.to_numeric(data_select2[column_feature[i]], errors='coerce').astype(float).round(2)\n",
    "                data_select3[column_feature[i]] = pd.to_numeric(data_select3[column_feature[i]], errors='coerce').astype(float).round(2)\n",
    "                data_select4[column_feature[i]] = pd.to_numeric(data_select4[column_feature[i]], errors='coerce').astype(float).round(2)            #print(len(df)) #16000개\n",
    "                \n",
    "\n",
    "            df1 = data_select[column_feature]\n",
    "            df2 = data_select2[column_feature]\n",
    "            df3 = data_select3[column_feature]\n",
    "            df4 = data_select4[column_feature]\n",
    "            \n",
    "            df = pd.concat([df1, df2, df3, df4], ignore_index=True) # 18년 19년 자료 합쳐주는 부분.\n",
    "            df = df.dropna(how = 'any')\n",
    "            df = df.sort_values(by = 'HE_BMI')\n",
    "            for i in range(len(column_feature)):\n",
    "                ### 8,9제거\n",
    "                if column_feature[i] in list999:\n",
    "                    df.drop(df[(df[column_feature[i]] == 888) | (df[column_feature[i]] == 999)].index, inplace = True)\n",
    "                elif column_feature[i] in list88:\n",
    "                    df.drop(df[(df[column_feature[i]] == 88) | (df[column_feature[i]] == 99)].index, inplace = True)\n",
    "                else:\n",
    "                    df.drop(df[(df[column_feature[i]] == 8) | (df[column_feature[i]] == 9)].index, inplace = True)\n",
    "\n",
    "            BMI_tmp = df['HE_BMI']\n",
    "            for k in range(len(df)): #여기서 문제가 생기는구나. 어떡할까\n",
    "                # print(i+cl*(ii-1)+len(age_list)*(age))\n",
    "                if BMI_tmp.iloc[k] < 23:\n",
    "                    BMI_grade[iter].append(0)\n",
    "                elif 23 <= BMI_tmp.iloc[k] < 25:\n",
    "                    BMI_grade[iter].append(1)\n",
    "                elif 25 <= BMI_tmp.iloc[k]:\n",
    "                    BMI_grade[iter].append(2)\n",
    "            tree_data = df.drop(['HE_BMI'],axis = 1)\n",
    "            \n",
    "            \n",
    "            iteration_test.append([iter,ct])\n",
    "            if tree_data.empty == False:\n",
    "                #########################################################\n",
    "                # data normalizaion\n",
    "                min_max_scaler = preprocessing.MinMaxScaler()\n",
    "                x_scaled = min_max_scaler.fit_transform(tree_data)\n",
    "                tree_data = pd.DataFrame(x_scaled,columns=tree_data.columns)\n",
    "                tree_data['BMI_grade'] = BMI_grade[iter]\n",
    "\n",
    "                X = tree_data.iloc[:,:-1]\n",
    "                y = tree_data.iloc[:,-1:]\n",
    "                # y = y.squeeze()\n",
    "\n",
    "                # from sklearn.preprocessing import label_binarize\n",
    "                # y = label_binarize(y, classes=[0, 1, 2])\n",
    "                n_classes = 3 #고정\n",
    "                \n",
    "                X_train, X_test, y_train, y_test = train_test_split(X, y, test_size=0.25, random_state=1)\n",
    "\n",
    "\n",
    "                cnt_dict = dict(Counter(y_train['BMI_grade']))\n",
    "                cnt0 = cnt_dict[0]\n",
    "                cnt1 = cnt_dict[1]\n",
    "                cnt2 = cnt_dict[2]\n",
    "                print(cnt0, cnt1, cnt2)\n",
    "\n",
    "                # #######################\n",
    "                # ###### MANUALLY #######\n",
    "                # #######################\n",
    "                                \n",
    "                # cnt_max = max(cnt0,cnt1,cnt2)\n",
    "                # train_ = pd.concat([X_train, y_train], axis=1)\n",
    "                \n",
    "                # n_resampl_0 = cnt_max - cnt0\n",
    "                # if n_resampl_0 != 0:\n",
    "                #     local = train_.loc[(train_['BMI_grade']==0)] #0인 갯수가 부족하니까 그것들을 추출\n",
    "                #     idx = local.index.values # 추출한 것의 index\n",
    "                #     select_list = [random.choice(idx) for i in range(n_resampl_0)] #랜덤으로 추출된 idx들 모음\n",
    "                #     tree_data_2 = train_.loc[select_list]\n",
    "                #     train_ = pd.concat([train_,tree_data_2], ignore_index=True)\n",
    "                \n",
    "                # n_resampl_1 = cnt_max - cnt1\n",
    "                # if n_resampl_1 != 0:\n",
    "                #     local = train_.loc[(train_['BMI_grade']==1)]\n",
    "                #     idx = local.index.values # 추출한 것의 index\n",
    "                #     select_list = [random.choice(idx) for i in range(n_resampl_1)] #랜덤으로 추출된 idx들 모음\n",
    "                #     tree_data_2 = train_.loc[select_list]\n",
    "                #     train_ = pd.concat([train_,tree_data_2], ignore_index=True)\n",
    "                \n",
    "                # n_resampl_2 = cnt_max - cnt2\n",
    "                # if n_resampl_2 != 0:\n",
    "                #     local = train_.loc[(train_['BMI_grade']==2)]\n",
    "                #     idx = local.index.values # 추출한 것의 index\n",
    "                #     select_list = [random.choice(idx) for i in range(n_resampl_2)] #랜덤으로 추출된 idx들 모음\n",
    "                #     tree_data_2 = train_.loc[select_list]\n",
    "                #     train_ = pd.concat([train_,tree_data_2], ignore_index=True)\n",
    "                \n",
    "                # X_train = train_.iloc[:,:-1]\n",
    "                # y_train = train_.iloc[:,-1:]\n",
    "\n",
    "                ###############\n",
    "                ### SMOTE #####\n",
    "                ###############\n",
    "                sm = SMOTE(random_state=12)#, ratio = 1.0)\n",
    "                X_train, y_train = sm.fit_resample(X_train, y_train)\n",
    "                \n",
    "                cnt_dict = dict(Counter(y_train['BMI_grade']))\n",
    "                cnt0 = cnt_dict[0]\n",
    "                cnt1 = cnt_dict[1]\n",
    "                cnt2 = cnt_dict[2]\n",
    "                print('after augmentation')\n",
    "                print(cnt0, cnt1, cnt2)\n",
    "                print('------------------')\n",
    "                ##########################################################\n",
    "                clf = LogisticRegression(multi_class='ovr')\n",
    "                parameters = { \"penalty\" : [\"l2\", \"l1\"], \"C\" : [0.01, 0.1, 1, 5, 10] }\n",
    "                ##################GRID SEARCH CV\n",
    "                # parameters = {'gamma':[0.01, 0.1,0.5,1,5,10,30,50],\n",
    "                #             'C':[0.01, 0.1,0.5,1,5,10,30,50]}\n",
    "                grid_dtree = GridSearchCV(clf,param_grid=parameters,cv=3,refit=True)\n",
    "                grid_dtree.fit(X_train,y_train)\n",
    "\n",
    "                print('GridSearchCV 최적 파라미터:', grid_dtree.best_params_)\n",
    "                print('GridSearchCV 최고 정확도: {0:.4f}'.format(grid_dtree.best_score_))\n",
    "\n",
    "                fig = plt.figure(2*i)\n",
    "                # results = pd.DataFrame(grid_dtree.cv_results_)\n",
    "                # scores = np.array(results.mean_test_score).reshape(8, 8)\n",
    "                # /mg.tools.heatmap(scores, xlabel='gamma', xticklabels=parameters['gamma'],ylabel='C', yticklabels=parameters['C'], cmap=\"viridis\")\n",
    "                best_param = list(grid_dtree.best_params_.values())\n",
    "                # plt.title(grid_dtree.best_params_.items())\n",
    "                # plt.savefig(PATH + '/top ' + str(top_count) + ' ' + str(ii) + ' ' + str(age_list[age]) + ' ' + str(i+1) + \"_\" + 'Heatmap' + \".png\", dpi=300)\n",
    "                # plt.close()\n",
    "                # plt.show()\n",
    "\n",
    "                clf = LogisticRegression(penalty = best_param[1], C = best_param[0], max_iter=1000, multi_class='ovr', solver='lbfgs')\n",
    "                clf.fit(X_train,y_train.values.ravel())\n",
    "                y_pred = clf.predict(X_test) \n",
    "\n",
    "                r_score = recall_score(y_test, y_pred, average = 'micro')\n",
    "                p_score = precision_score(y_test, y_pred, average = 'micro')\n",
    "                f_score = f1_score(y_test, y_pred, average = 'micro')\n",
    "                accuracy = clf.score(X_test,y_test)#, average = None)\n",
    "                # TP = perf_measure(np.array(y_test), y_pred)[0]\n",
    "                # FP = perf_measure(np.array(y_test), y_pred)[1]\n",
    "                # TN = perf_measure(np.array(y_test), y_pred)[2]\n",
    "                # FN = perf_measure(np.array(y_test), y_pred)[3]\n",
    "                \n",
    "                print_list.append([])\n",
    "                print_list[ct].append(str(sex))\n",
    "                print_list[ct].append(str(age_list[age]))\n",
    "                print_list[ct].append(str(column_feature))\n",
    "                print_list[ct].append(str(cnt0))\n",
    "                print_list[ct].append(str(cnt1))\n",
    "                print_list[ct].append(str(cnt2))\n",
    "                \n",
    "                print_list[ct].append(np.round(accuracy,3))\n",
    "                print_list[ct].append(np.round(r_score,3))\n",
    "                print_list[ct].append(np.round(p_score,3))\n",
    "                print_list[ct].append(np.round(f_score,3))\n",
    "                \n",
    "\n",
    "                # Compute ROC curve and ROC area for each class\n",
    "                fpr = dict()\n",
    "                tpr = dict()\n",
    "                roc_auc = dict()\n",
    "                \n",
    "                y_test = label_binarize(y_test, classes=[0, 1, 2]) # SVC input이 one hot incoding으로 안들어감.\n",
    "                \n",
    "                for i in range(n_classes):\n",
    "                    fpr[i], tpr[i], _ = roc_curve(y_test[:, i], clf.predict_proba(X_test)[:, 1])\n",
    "                    roc_auc[i] = auc(fpr[i], tpr[i])\n",
    "                \n",
    "                # Compute micro-average ROC curve and ROC area\n",
    "                fpr[\"micro\"], tpr[\"micro\"], _ = roc_curve(y_test.ravel(), clf.predict_proba(X_test).ravel())\n",
    "                roc_auc[\"micro\"] = auc(fpr[\"micro\"], tpr[\"micro\"])\n",
    "                lw = 2\n",
    "                \n",
    "                # First aggregate all false positive rates\n",
    "                all_fpr = np.unique(np.concatenate([fpr[i] for i in range(n_classes)]))\n",
    "\n",
    "                # Then interpolate all ROC curves at this points\n",
    "                mean_tpr = np.zeros_like(all_fpr)\n",
    "                for i in range(n_classes):\n",
    "                    mean_tpr += np.interp(all_fpr, fpr[i], tpr[i])\n",
    "\n",
    "                # Finally average it and compute AUC\n",
    "                mean_tpr /= n_classes\n",
    "\n",
    "                fpr[\"macro\"] = all_fpr\n",
    "                tpr[\"macro\"] = mean_tpr\n",
    "                roc_auc[\"macro\"] = auc(fpr[\"macro\"], tpr[\"macro\"])\n",
    "\n",
    "                # Plot all ROC curves\n",
    "                plt.figure(figsize=(9,9))\n",
    "                plt.plot(\n",
    "                    fpr[\"micro\"],\n",
    "                    tpr[\"micro\"],\n",
    "                    label=\"micro-average ROC curve (area = {0:0.2f})\".format(roc_auc[\"micro\"]),\n",
    "                    color=\"deeppink\",\n",
    "                    linestyle=\":\",\n",
    "                    linewidth=4,\n",
    "                )\n",
    "\n",
    "                plt.plot(\n",
    "                    fpr[\"macro\"],\n",
    "                    tpr[\"macro\"],\n",
    "                    label=\"macro-average ROC curve (area = {0:0.2f})\".format(roc_auc[\"macro\"]),\n",
    "                    color=\"navy\",\n",
    "                    linestyle=\":\",\n",
    "                    linewidth=4,\n",
    "                )\n",
    "\n",
    "                colors = cycle([\"aqua\", \"darkorange\", \"cornflowerblue\"])\n",
    "                for i, color in zip(range(n_classes), colors):\n",
    "                    plt.plot(\n",
    "                        fpr[i],\n",
    "                        tpr[i],\n",
    "                        color=color,\n",
    "                        lw=lw,\n",
    "                        label=\"ROC curve of class {0} (area = {1:0.2f})\".format(i, roc_auc[i]),\n",
    "                    )\n",
    "\n",
    "                plt.plot([0, 1], [0, 1], \"k--\", lw=lw)\n",
    "                plt.xlim([0.0, 1.0])\n",
    "                plt.ylim([0.0, 1.05])\n",
    "                plt.xlabel(\"False Positive Rate\", fontsize=20)\n",
    "                plt.ylabel(\"True Positive Rate\", fontsize=20)\n",
    "                plt.title(\"Top \" + str(top_count)\n",
    "                            + \" \" + str(age_list[age])\n",
    "                            + \" \" + str(ii) + ' Multiclass ROC', fontsize=20)\n",
    "                plt.legend(loc=\"lower right\", fontsize=15)\n",
    "                plt.savefig(PATH +\"/Top \" + str(top_count)\n",
    "                            + \" \" + str(age_list[age])\n",
    "                            + \" \" + str(ii) + ' ROC-CURVE' + sup + '.png')\n",
    "                plt.show()\n",
    "                from sklearn.model_selection import cross_val_predict\n",
    "                from sklearn.metrics import confusion_matrix\n",
    "                y_train_pred = cross_val_predict(clf, X_train, y_train.values.ravel())\n",
    "                conf_mx = confusion_matrix(y_train.values.ravel(), y_train_pred)\n",
    "                plt.matshow(conf_mx, cmap=plt.cm.gray)\n",
    "                plt.savefig(PATH +\"/Top \" + str(top_count)\n",
    "                            + \" \" + str(age_list[age])\n",
    "                            + \" \" + str(ii) + ' confusion-matrix' + sup + '.png')\n",
    "                y_prob = clf.predict_proba(X_test).ravel()\n",
    "                macro_roc_auc_ovo = roc_auc_score(y_test.ravel(), y_prob, multi_class=\"ovo\", average=\"macro\")\n",
    "                weighted_roc_auc_ovo = roc_auc_score(\n",
    "                    y_test.ravel(), y_prob, multi_class=\"ovo\", average=\"weighted\"\n",
    "                )\n",
    "                micro_roc_auc_ovo = roc_auc_score(\n",
    "                    y_test.ravel(), y_prob, multi_class=\"ovo\", average=\"micro\"\n",
    "                )\n",
    "                macro_roc_auc_ovr = roc_auc_score(y_test.ravel(), y_prob, multi_class=\"ovr\", average=\"macro\")\n",
    "                weighted_roc_auc_ovr = roc_auc_score(\n",
    "                    y_test.ravel(), y_prob, multi_class=\"ovr\", average=\"weighted\"\n",
    "                )\n",
    "                micro_roc_auc_ovr = roc_auc_score(\n",
    "                    y_test.ravel(), y_prob, multi_class=\"ovr\", average=\"micro\"\n",
    "                )\n",
    "                print(\n",
    "                    \"One-vs-One ROC AUC scores:\\n{:.6f} (macro),\\n{:.6f} \"\n",
    "                    \"(weighted by prevalence)\".format(macro_roc_auc_ovo, weighted_roc_auc_ovo)\n",
    "                )\n",
    "                print(\n",
    "                    \"One-vs-Rest ROC AUC scores:\\n{:.6f} (macro),\\n{:.6f} \"\n",
    "                    \"(weighted by prevalence)\".format(macro_roc_auc_ovr, weighted_roc_auc_ovr)\n",
    "                )\n",
    "                \n",
    "                print_list[ct].append(np.round(macro_roc_auc_ovo,3))\n",
    "                print_list[ct].append(np.round(micro_roc_auc_ovo,3))\n",
    "                print_list[ct].append(np.round(weighted_roc_auc_ovo,3))\n",
    "                print_list[ct].append(np.round(macro_roc_auc_ovr,3))\n",
    "                print_list[ct].append(np.round(micro_roc_auc_ovo,3))\n",
    "                print_list[ct].append(np.round(weighted_roc_auc_ovr,3))\n",
    "                \n",
    "                ct += 1\n",
    "                \n",
    "            iter += 1\n",
    "            \n",
    "            \n",
    "    pl = pd.DataFrame(print_list,\n",
    "                        columns=['gender',\n",
    "                                '<= age <',\n",
    "                                # \"group\",\n",
    "                                \"list\",\n",
    "                                'Number Of 0',\n",
    "                                'Number of 1',\n",
    "                                'Number of 2',\n",
    "                                'accuracy score',\n",
    "                                'recall score',\n",
    "                                'precision score',\n",
    "                                'f1 score',\n",
    "                                'OVO AUC macro',\n",
    "                                'OVO AUC micro',\n",
    "                                'OVO AUC weighted',\n",
    "                                'OVR AUC macro',\n",
    "                                'OVR AUC micro',\n",
    "                                'OVR AUC weighted'])\n",
    "\n",
    "    pl.to_csv(PATH + '/top ' + str(top_count) + ' LR_혈액검사 데이터' + sup + '.csv', index=False)"
   ]
  },
  {
   "cell_type": "code",
   "execution_count": null,
   "metadata": {},
   "outputs": [],
   "source": [
    "ass"
   ]
  }
 ],
 "metadata": {
  "interpreter": {
   "hash": "c7ac97df0b9ce11aa8fedd52ebf62a0bf09db6b153f6fca506b128f66bce1468"
  },
  "kernelspec": {
   "display_name": "Python 3.6.8 64-bit ('.venv': venv)",
   "name": "python3"
  },
  "language_info": {
   "codemirror_mode": {
    "name": "ipython",
    "version": 3
   },
   "file_extension": ".py",
   "mimetype": "text/x-python",
   "name": "python",
   "nbconvert_exporter": "python",
   "pygments_lexer": "ipython3",
   "version": "3.6.8"
  },
  "metadata": {
   "interpreter": {
    "hash": "b34de1f8e6b4ea2f6cd2f3afdb0accdfa84388fc779c4716220242f4f659a80f"
   }
  },
  "orig_nbformat": 2
 },
 "nbformat": 4,
 "nbformat_minor": 2
}
